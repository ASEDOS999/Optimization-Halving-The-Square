{
 "cells": [
  {
   "cell_type": "code",
   "execution_count": 1,
   "metadata": {},
   "outputs": [],
   "source": [
    "import solvers\n",
    "import test_functions\n",
    "import numpy as np"
   ]
  },
  {
   "cell_type": "code",
   "execution_count": 36,
   "metadata": {
    "scrolled": false
   },
   "outputs": [
    {
     "name": "stdout",
     "output_type": "stream",
     "text": [
      "1000.0000000000148 0.000999999999999985\n"
     ]
    },
    {
     "data": {
      "text/plain": [
       "[[-14644.560239548251, 14644.560239548251],\n",
       " [-14644.560239548251, 14644.560239548251],\n",
       " [-14644.560239548251, 14644.560239548251]]"
      ]
     },
     "execution_count": 36,
     "metadata": {},
     "output_type": "execute_result"
    }
   ],
   "source": [
    "f = test_functions.QuadraticFunction(3, L_min = 0.001, way = 'control')\n",
    "Q = f.get_square()\n",
    "Q"
   ]
  },
  {
   "cell_type": "code",
   "execution_count": 37,
   "metadata": {},
   "outputs": [
    {
     "data": {
      "text/plain": [
       "array([-589.25979526, 1851.19027608, 3410.47597798])"
      ]
     },
     "execution_count": 37,
     "metadata": {},
     "output_type": "execute_result"
    }
   ],
   "source": [
    "Q\n",
    "import numpy as np\n",
    "np.linalg.solve(f.A, f.b)"
   ]
  },
  {
   "cell_type": "code",
   "execution_count": 38,
   "metadata": {
    "scrolled": false
   },
   "outputs": [
    {
     "name": "stdout",
     "output_type": "stream",
     "text": [
      "3.121729607513615e-05\n",
      "Time\n"
     ]
    },
    {
     "data": {
      "text/plain": [
       "0.12165617942810059"
      ]
     },
     "execution_count": 38,
     "metadata": {},
     "output_type": "execute_result"
    }
   ],
   "source": [
    "import time\n",
    "eps = 1e-6\n",
    "s = time.time()\n",
    "solv = solvers.HalvingCube(Q = Q, f = f)\n",
    "a = solv.main(N = 30, eps = eps)\n",
    "print(2* np.linalg.norm(f.A@a - f.b))\n",
    "print('Time')\n",
    "time.time()-s"
   ]
  },
  {
   "cell_type": "code",
   "execution_count": 39,
   "metadata": {
    "scrolled": false
   },
   "outputs": [
    {
     "name": "stdout",
     "output_type": "stream",
     "text": [
      "9.99029833055892e-07\n",
      "Time\n"
     ]
    },
    {
     "data": {
      "text/plain": [
       "0.21387839317321777"
      ]
     },
     "execution_count": 39,
     "metadata": {},
     "output_type": "execute_result"
    }
   ],
   "source": [
    "import time\n",
    "s = time.time()\n",
    "a = solvers.gradient_descent(f,Q, N = np.inf, eps = eps)\n",
    "print(2* np.linalg.norm(f.A@a - f.b))\n",
    "print('Time')\n",
    "time.time()-s"
   ]
  },
  {
   "cell_type": "code",
   "execution_count": 40,
   "metadata": {
    "scrolled": false
   },
   "outputs": [
    {
     "name": "stdout",
     "output_type": "stream",
     "text": [
      "2.702125953369102e-07\n",
      "Time\n"
     ]
    },
    {
     "data": {
      "text/plain": [
       "0.020826101303100586"
      ]
     },
     "execution_count": 40,
     "metadata": {},
     "output_type": "execute_result"
    }
   ],
   "source": [
    "import time\n",
    "s = time.time()\n",
    "a = solvers.ellipsoid(f,Q, N = np.inf, eps = eps)[0]\n",
    "print(2* np.linalg.norm(f.A@a - f.b))\n",
    "print('Time')\n",
    "time.time()-s"
   ]
  },
  {
   "cell_type": "code",
   "execution_count": null,
   "metadata": {},
   "outputs": [],
   "source": []
  },
  {
   "cell_type": "code",
   "execution_count": null,
   "metadata": {},
   "outputs": [],
   "source": []
  }
 ],
 "metadata": {
  "kernelspec": {
   "display_name": "Python 3",
   "language": "python",
   "name": "python3"
  },
  "language_info": {
   "codemirror_mode": {
    "name": "ipython",
    "version": 3
   },
   "file_extension": ".py",
   "mimetype": "text/x-python",
   "name": "python",
   "nbconvert_exporter": "python",
   "pygments_lexer": "ipython3",
   "version": "3.7.3"
  }
 },
 "nbformat": 4,
 "nbformat_minor": 2
}
