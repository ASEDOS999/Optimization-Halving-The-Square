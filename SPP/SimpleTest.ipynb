{
 "cells": [
  {
   "cell_type": "code",
   "execution_count": 1,
   "metadata": {},
   "outputs": [],
   "source": [
    "from Solvers import *"
   ]
  },
  {
   "cell_type": "code",
   "execution_count": 2,
   "metadata": {},
   "outputs": [],
   "source": [
    "from TestFunctions import *"
   ]
  },
  {
   "cell_type": "markdown",
   "metadata": {},
   "source": [
    "Quadratic function for test:\n",
    "$$S(\\textbf{x}. \\textbf{y}) = \\|\\textbf{x}\\|^2 + 2\\alpha \\textbf{x}^\\top \\textbf{y} - \\|\\textbf{y}\\|^2$$\n",
    "Obviously, for all non-zero $\\alpha$ the problem $\\min_x \\max_y S(x,y)$ has only one solution (0,0)."
   ]
  },
  {
   "cell_type": "code",
   "execution_count": 10,
   "metadata": {},
   "outputs": [],
   "source": [
    "import numpy as np\n",
    "N = 2\n",
    "QF = Quadratic.get_test_func(alpha = 1/2, \n",
    "                             solver = GradientMethods.FGM_internal, \n",
    "                             get_start_point = lambda x: (np.ones(x.shape), np.sqrt(x.shape[0])))"
   ]
  },
  {
   "cell_type": "code",
   "execution_count": 11,
   "metadata": {},
   "outputs": [],
   "source": [
    "history = {}\n",
    "ext_solver = HalvCube.Dichotomy(history = history)"
   ]
  },
  {
   "cell_type": "code",
   "execution_count": 12,
   "metadata": {},
   "outputs": [],
   "source": [
    "Q = [[-100, 1] for j in range(N)]\n",
    "eps = 1e-10"
   ]
  },
  {
   "cell_type": "code",
   "execution_count": 14,
   "metadata": {
    "scrolled": true
   },
   "outputs": [
    {
     "data": {
      "text/plain": [
       "4.91245008846037e-13"
      ]
     },
     "execution_count": 14,
     "metadata": {},
     "output_type": "execute_result"
    }
   ],
   "source": [
    "x, R = ext_solver.Halving(QF, Q, eps)\n",
    "QF.get_value(x, x/2)"
   ]
  },
  {
   "cell_type": "code",
   "execution_count": 7,
   "metadata": {},
   "outputs": [],
   "source": [
    "import imp\n",
    "imp.reload(GradientMethods)\n",
    "ext_solver = GradientMethods.FGM_external"
   ]
  },
  {
   "cell_type": "code",
   "execution_count": 8,
   "metadata": {},
   "outputs": [
    {
     "data": {
      "text/plain": [
       "4.912322841379652e-13"
      ]
     },
     "execution_count": 8,
     "metadata": {},
     "output_type": "execute_result"
    }
   ],
   "source": [
    "beta = 1\n",
    "x, k = ext_solver(QF, beta * np.ones(N), abs(beta) * np.sqrt(N), Q, eps = eps, history = history)\n",
    "QF.get_value(x, x/2)"
   ]
  },
  {
   "cell_type": "code",
   "execution_count": 32,
   "metadata": {},
   "outputs": [],
   "source": [
    "import imp\n",
    "from TestFunctions import TestFunctions\n",
    "imp.reload(Ellipsoids)\n",
    "imp.reload(TestFunctions)\n",
    "ext_solver = Ellipsoids.delta_ellipsoid"
   ]
  },
  {
   "cell_type": "code",
   "execution_count": 33,
   "metadata": {},
   "outputs": [
    {
     "data": {
      "text/plain": [
       "6.84027481342258e-13"
      ]
     },
     "execution_count": 33,
     "metadata": {},
     "output_type": "execute_result"
    }
   ],
   "source": [
    "x, k = ext_solver(QF, Q, eps = eps, history = history)\n",
    "QF.get_value(x, x/2)"
   ]
  },
  {
   "cell_type": "code",
   "execution_count": null,
   "metadata": {},
   "outputs": [],
   "source": []
  }
 ],
 "metadata": {
  "kernelspec": {
   "display_name": "Python 3",
   "language": "python",
   "name": "python3"
  },
  "language_info": {
   "codemirror_mode": {
    "name": "ipython",
    "version": 3
   },
   "file_extension": ".py",
   "mimetype": "text/x-python",
   "name": "python",
   "nbconvert_exporter": "python",
   "pygments_lexer": "ipython3",
   "version": "3.7.3"
  }
 },
 "nbformat": 4,
 "nbformat_minor": 2
}
