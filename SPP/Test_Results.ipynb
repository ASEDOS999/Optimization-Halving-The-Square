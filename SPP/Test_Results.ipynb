{
 "cells": [
  {
   "cell_type": "markdown",
   "metadata": {
    "collapsed": true
   },
   "source": [
    "## Comparison for LogSumExp"
   ]
  },
  {
   "cell_type": "markdown",
   "metadata": {},
   "source": [
    "### N=100"
   ]
  },
  {
   "cell_type": "markdown",
   "metadata": {},
   "source": [
    "The LogSumExp-problem with linear consraints:\n",
    "\t$$\\log(1 + \\sum\\limits_{k=1}^n \\exp(\\alpha x_k)) + \\frac{\\beta}{2} \\|\\textbf{x}\\|_2^2 \\rightarrow \\min_{\\textbf{x}\\in \\mathbb{R}^N}$$\n",
    "\t$$\\text{s.t.} (\\textbf{b}_j, \\textbf{x}) - c_j <= 0, j = 1\\dots M$$\n",
    "\t\n",
    "This problem can be converted into saddle point problem:\n",
    "\t$$\\min_{\\textbf{x}} \\max_{\\textbf{y}\\in\\mathbb{R}^M_+} S(\\textbf{x},\\textbf{y}),$$\n",
    "where $S(\\textbf{x}, \\textbf{y}) = r(\\textbf{x})+F(\\textbf{x}, \\textbf{y}) - h(\\textbf{y})$\n",
    "\t$$r(\\textbf{x}) = \\log(1 + \\sum\\limits_{k=1}^n \\exp(\\alpha x_k)) + \\frac{\\beta}{2} \\|\\textbf{x}\\|_2^2$$\n",
    "\t$$F(\\textbf{x}, \\textbf{y}) = \\sum\\limits_{j=1}^M x_j(\\textbf{b}_j, \\textbf{y}) = (\\textbf{x}, B\\textbf{y})$$\n",
    "\t$$h(\\textbf{y}) = (\\textbf{c}, \\textbf{y})$$\n",
    "\n",
    "So N is dimensional of external variable, M - internal. But we will consider the external problem as help problem."
   ]
  },
  {
   "cell_type": "code",
   "execution_count": 1,
   "metadata": {},
   "outputs": [],
   "source": [
    "import numpy as np\n",
    "from TestFunctions import LogSumExp\n",
    "from TestFunctions.TestFunctions import TestFunction\n",
    "from Solvers.GradientMethods import FGM_internal\n",
    "import matplotlib.pyplot as plt\n",
    "%matplotlib notebook\n",
    "import comparison\n",
    "import imp\n",
    "from comparison import method_comparison, create_methods_dict"
   ]
  },
  {
   "cell_type": "code",
   "execution_count": 2,
   "metadata": {},
   "outputs": [],
   "source": [
    "N = 100\n",
    "M = 2\n",
    "alpha = 1\n",
    "beta = 0.001\n",
    "B = np.random.uniform(low = -1, high = 1, size = (M, N))\n",
    "c = np.random.uniform(low = 0, high = 1, size = (M, ))"
   ]
  },
  {
   "cell_type": "code",
   "execution_count": 3,
   "metadata": {
    "scrolled": true
   },
   "outputs": [],
   "source": [
    "x_ = np.zeros((N,))\n",
    "f_ = LogSumExp.r(alpha, beta).get_value(x_)\n",
    "gamma = c.max()\n",
    "y_max = f_/gamma\n",
    "Q = [[0, y_max] for i in range(M)]\n",
    "Q = np.array(Q)\n",
    "size_domain = np.linalg.norm(Q[:,0]-Q[:,1])"
   ]
  },
  {
   "cell_type": "code",
   "execution_count": 4,
   "metadata": {},
   "outputs": [],
   "source": [
    "LSE = TestFunction(r = LogSumExp.h(c, size_domain = size_domain),\n",
    "                F = LogSumExp.F_tilde(B, size_domain),\n",
    "                h = LogSumExp.r(alpha, beta, size_domain),\n",
    "                solver = FGM_internal, \n",
    "                get_start_point = lambda x: (1/beta * -x.dot(B), alpha * np.sqrt(N)/beta))"
   ]
  },
  {
   "cell_type": "code",
   "execution_count": 5,
   "metadata": {},
   "outputs": [],
   "source": [
    "history = {}\n",
    "eps = 1e-10\n",
    "methods = create_methods_dict(LSE, Q[:,1], size_domain, Q, eps, history, time_max = 10)"
   ]
  },
  {
   "cell_type": "code",
   "execution_count": 6,
   "metadata": {
    "scrolled": false
   },
   "outputs": [
    {
     "name": "stderr",
     "output_type": "stream",
     "text": [
      "/home/elias/Desktop/PROJECTS/Optimization-Halving-The-Square/SPP/Solvers/GradientMethods.py:9: RuntimeWarning: divide by zero encountered in double_scalars\n",
      "  k = min(np.sqrt(4 * L * R/ eps), 2 * np.sqrt(f.L_xx/f.mu_x) * np.log(L * R/ eps))\n",
      "/home/elias/Desktop/PROJECTS/Optimization-Halving-The-Square/SPP/Solvers/GradientMethods.py:10: RuntimeWarning: divide by zero encountered in double_scalars\n",
      "  z = min(1/3 * k+ 2.4, 1 + np.sqrt(f.L_xx/f.mu_x))\n"
     ]
    }
   ],
   "source": [
    "imp.reload(comparison)\n",
    "comparison.method_comparison(methods)"
   ]
  },
  {
   "cell_type": "code",
   "execution_count": 7,
   "metadata": {
    "scrolled": true
   },
   "outputs": [],
   "source": [
    "keys = ['Ellipsoids', 'Dichotomy', 'FGM']"
   ]
  },
  {
   "cell_type": "code",
   "execution_count": 10,
   "metadata": {},
   "outputs": [],
   "source": [
    "def get_plot(history, f, keys = None):\n",
    "    if keys is None:\n",
    "        keys = history.keys()\n",
    "    for key in keys:\n",
    "        t0 = history[key][0][1]\n",
    "        t = [i[1]-t0 for i in history[key]]\n",
    "        values = [f(i[0]) for i in history[key]]\n",
    "        plt.plot(t, values)\n",
    "    plt.legend(keys)\n",
    "    plt.grid()\n",
    "    plt.xlabel(\"Time, s\")\n",
    "    plt.ylabel(\"Values\")"
   ]
  },
  {
   "cell_type": "code",
   "execution_count": null,
   "metadata": {
    "scrolled": false
   },
   "outputs": [],
   "source": [
    "cond = lambda y, R: LSE.L_xx * R <= eps\n",
    "f = lambda y: LSE.get_value(y, LSE.get_solution(y, cond)[0])\n",
    "get_plot(history, f, keys = keys)"
   ]
  },
  {
   "cell_type": "code",
   "execution_count": null,
   "metadata": {},
   "outputs": [],
   "source": [
    "LSE.get_value"
   ]
  },
  {
   "cell_type": "code",
   "execution_count": null,
   "metadata": {},
   "outputs": [],
   "source": []
  }
 ],
 "metadata": {
  "anaconda-cloud": {},
  "kernelspec": {
   "display_name": "Python 3",
   "language": "python",
   "name": "python3"
  },
  "language_info": {
   "codemirror_mode": {
    "name": "ipython",
    "version": 3
   },
   "file_extension": ".py",
   "mimetype": "text/x-python",
   "name": "python",
   "nbconvert_exporter": "python",
   "pygments_lexer": "ipython3",
   "version": "3.7.3"
  }
 },
 "nbformat": 4,
 "nbformat_minor": 2
}
