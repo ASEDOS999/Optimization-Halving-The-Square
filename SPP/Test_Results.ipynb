{
 "cells": [
  {
   "cell_type": "markdown",
   "metadata": {
    "collapsed": true
   },
   "source": [
    "## Comparison for LogSumExp"
   ]
  },
  {
   "cell_type": "markdown",
   "metadata": {},
   "source": [
    "### N=100"
   ]
  },
  {
   "cell_type": "markdown",
   "metadata": {},
   "source": [
    "The LogSumExp-problem with linear consraints:\n",
    "\t$$\\log(1 + \\sum\\limits_{k=1}^n \\exp(\\alpha x_k)) + \\frac{\\beta}{2} \\|\\textbf{x}\\|_2^2 \\rightarrow \\min_{\\textbf{x}\\in \\mathbb{R}^N}$$\n",
    "\t$$\\text{s.t.} (\\textbf{b}_j, \\textbf{x}) - c_j <= 0, j = 1\\dots M$$\n",
    "\t\n",
    "This problem can be converted into saddle point problem:\n",
    "\t$$\\min_{\\textbf{x}} \\max_{\\textbf{y}\\in\\mathbb{R}^M_+} S(\\textbf{x},\\textbf{y}),$$\n",
    "where $S(\\textbf{x}, \\textbf{y}) = r(\\textbf{x})+F(\\textbf{x}, \\textbf{y}) - h(\\textbf{y})$\n",
    "\t$$r(\\textbf{x}) = \\log(1 + \\sum\\limits_{k=1}^n \\exp(\\alpha x_k)) + \\frac{\\beta}{2} \\|\\textbf{x}\\|_2^2$$\n",
    "\t$$F(\\textbf{x}, \\textbf{y}) = \\sum\\limits_{j=1}^M x_j(\\textbf{b}_j, \\textbf{y}) = (\\textbf{x}, B\\textbf{y})$$\n",
    "\t$$h(\\textbf{y}) = (\\textbf{c}, \\textbf{y})$$\n",
    "\n",
    "So N is dimensional of external variable, M - internal. But we will consider the external problem as help problem."
   ]
  },
  {
   "cell_type": "code",
   "execution_count": 9,
   "metadata": {},
   "outputs": [],
   "source": [
    "import numpy as np\n",
    "from TestFunctions import LogSumExp\n",
    "from TestFunctions.TestFunctions import TestFunction\n",
    "from Solvers.GradientMethods import FGM_internal\n",
    "import comparison\n",
    "import imp\n",
    "from comparison import method_comparison, create_methods_dict"
   ]
  },
  {
   "cell_type": "code",
   "execution_count": 10,
   "metadata": {},
   "outputs": [],
   "source": [
    "N = 100\n",
    "M = 2\n",
    "alpha = 1\n",
    "beta = 0.001\n",
    "B = np.random.uniform(low = -1, high = 1, size = (M, N))\n",
    "c = np.random.uniform(low = 0, high = 1, size = (M, ))"
   ]
  },
  {
   "cell_type": "code",
   "execution_count": 11,
   "metadata": {
    "scrolled": true
   },
   "outputs": [
    {
     "data": {
      "text/plain": [
       "array([[0.        , 7.48206389]])"
      ]
     },
     "execution_count": 11,
     "metadata": {},
     "output_type": "execute_result"
    }
   ],
   "source": [
    "x_ = np.zeros((N,))\n",
    "f_ = LogSumExp.r(alpha, beta).get_value(x_)\n",
    "gamma = c.max()\n",
    "y_max = f_/gamma\n",
    "Q = [[0, y_max] for i in range(M)]\n",
    "Q = np.array(Q)\n",
    "size_domain = np.linalg.norm(Q[:,0]-Q[:,1])\n",
    "Q[1:]"
   ]
  },
  {
   "cell_type": "code",
   "execution_count": 12,
   "metadata": {},
   "outputs": [],
   "source": [
    "LSE = TestFunction(r = LogSumExp.h(c, size_domain = size_domain),\n",
    "                F = LogSumExp.F_tilde(B, size_domain),\n",
    "                h = LogSumExp.r(alpha, beta, size_domain),\n",
    "                solver = FGM_internal, \n",
    "                get_start_point = lambda x: (1/beta * -x.dot(B), alpha * np.sqrt(N)/beta))"
   ]
  },
  {
   "cell_type": "code",
   "execution_count": 14,
   "metadata": {},
   "outputs": [],
   "source": [
    "history = {}\n",
    "eps = 1e-4\n",
    "methods = create_methods_dict(LSE, Q[:,1], size_domain, Q, eps, history, time_max = 5)"
   ]
  },
  {
   "cell_type": "code",
   "execution_count": 15,
   "metadata": {
    "scrolled": false
   },
   "outputs": [],
   "source": [
    "imp.reload(comparison)\n",
    "comparison.method_comparison(methods)"
   ]
  },
  {
   "cell_type": "code",
   "execution_count": 17,
   "metadata": {},
   "outputs": [
    {
     "data": {
      "text/plain": [
       "{'FGM': [(array([7.48206389, 7.48206389]), 1587228122.7124193),\n",
       "  (array([0., 0.]), 1587228122.9659564),\n",
       "  (array([-0.0004992,  0.       ]), 1587228123.1084385),\n",
       "  (array([-0.0002247,  0.       ]), 1587228123.157401),\n",
       "  (array([-0.00037564,  0.        ]), 1587228123.2469025),\n",
       "  (array([-0.00029264,  0.        ]), 1587228123.3636262),\n",
       "  (array([-0.00033828,  0.        ]), 1587228123.4661527),\n",
       "  (array([-0.00031318,  0.        ]), 1587228123.721404)],\n",
       " 'Ellipsoids': [array([3.74103194, 3.74103194]),\n",
       "  (array([2.40024231, 2.59545162]), 1587228122.9761581)],\n",
       " 'Dichotomy': [(array([3.74103194, 3.74103194]), 1587228122.7293599),\n",
       "  (array([3.74103194, 3.74103194]), 1587228123.075796),\n",
       "  (array([1.87051597, 3.74103194]), 1587228123.5865676),\n",
       "  (array([1.87051597, 1.87051597]), 1587228123.791514)]}"
      ]
     },
     "execution_count": 17,
     "metadata": {},
     "output_type": "execute_result"
    }
   ],
   "source": [
    "history"
   ]
  },
  {
   "cell_type": "code",
   "execution_count": null,
   "metadata": {},
   "outputs": [],
   "source": []
  }
 ],
 "metadata": {
  "anaconda-cloud": {},
  "kernelspec": {
   "display_name": "Python 3",
   "language": "python",
   "name": "python3"
  },
  "language_info": {
   "codemirror_mode": {
    "name": "ipython",
    "version": 3
   },
   "file_extension": ".py",
   "mimetype": "text/x-python",
   "name": "python",
   "nbconvert_exporter": "python",
   "pygments_lexer": "ipython3",
   "version": "3.7.3"
  }
 },
 "nbformat": 4,
 "nbformat_minor": 2
}
