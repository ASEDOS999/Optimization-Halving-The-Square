{
 "cells": [
  {
   "cell_type": "markdown",
   "metadata": {
    "collapsed": true
   },
   "source": [
    "# Comparison for LogSumExp"
   ]
  },
  {
   "cell_type": "markdown",
   "metadata": {},
   "source": [
    "The LogSumExp-problem with linear consraints:\n",
    "\t$$\\log(1 + \\sum\\limits_{k=1}^n \\exp(\\alpha x_k)) + \\frac{\\beta}{2} \\|\\textbf{x}\\|_2^2 \\rightarrow \\min_{\\textbf{x}\\in \\mathbb{R}^N}$$\n",
    "\t$$\\text{s.t.} (\\textbf{b}_j, \\textbf{x}) - c_j <= 0, j = 1\\dots M$$\n",
    "\t\n",
    "This problem can be converted into saddle point problem:\n",
    "\t$$\\min_{\\textbf{x}} \\max_{\\textbf{y}\\in\\mathbb{R}^M_+} S(\\textbf{x},\\textbf{y}),$$\n",
    "where $S(\\textbf{x}, \\textbf{y}) = r(\\textbf{x})+F(\\textbf{x}, \\textbf{y}) - h(\\textbf{y})$\n",
    "\t$$r(\\textbf{x}) = \\log(1 + \\sum\\limits_{k=1}^n \\exp(\\alpha x_k)) + \\frac{\\beta}{2} \\|\\textbf{x}\\|_2^2$$\n",
    "\t$$F(\\textbf{x}, \\textbf{y}) = \\sum\\limits_{j=1}^M x_j(\\textbf{b}_j, \\textbf{y}) = (\\textbf{x}, B\\textbf{y})$$\n",
    "\t$$h(\\textbf{y}) = (\\textbf{c}, \\textbf{y})$$\n",
    "\n",
    "So N is dimensional of external variable, M - internal. But we will consider the external problem as help problem."
   ]
  },
  {
   "cell_type": "code",
   "execution_count": 1,
   "metadata": {},
   "outputs": [],
   "source": [
    "import numpy as np\n",
    "from TestFunctions import LogSumExp_difalpha as LogSumExp\n",
    "from TestFunctions.TestFunctions import TestFunction\n",
    "from Solvers.GradientMethods import FGM_internal\n",
    "import matplotlib.pyplot as plt\n",
    "%matplotlib notebook\n",
    "import comparison\n",
    "import imp\n",
    "\n",
    "from comparison import method_comparison, create_methods_dict"
   ]
  },
  {
   "cell_type": "code",
   "execution_count": 2,
   "metadata": {},
   "outputs": [],
   "source": [
    "def get_LSE(N = 100, M = 2, alpha = 0.001, beta = 0.5e-3, k = 1000, seed = 241):\n",
    "    \"\"\"\n",
    "    The function is to get class of LSE. All parameters mathes the\n",
    "    parameters above.\n",
    "    \n",
    "    N is dimensional of primal problem\n",
    "    M is number of constraints. It is also the dual dimension\n",
    "    alpha is parameter of LogSumExp problem\n",
    "    beta is coefficient of l2-regularization for primal problem\n",
    "    \n",
    "    k is parameter for to generate matrix B\n",
    "    \"\"\"\n",
    "    np.random.seed(M*N)\n",
    "    alpha_ = np.random.uniform(size = (N,), low = -alpha, high = alpha)\n",
    "    alpha = np.max(np.abs(alpha))\n",
    "    B = []\n",
    "    for i in range(M):\n",
    "        b = np.random.uniform(low = -k, high = 0, size = (N,)) * np.sign(alpha_)\n",
    "        B.append(b)\n",
    "    B = np.array(B)\n",
    "    #B = np.random.uniform(low = -k, high = 0, size = (M, N))\n",
    "    c = np.ones((M,))\n",
    "    x_ = np.zeros((N,))\n",
    "    f_ = LogSumExp.r(alpha, beta).get_value(x_)\n",
    "    gamma = c.max()\n",
    "    y_max = f_/gamma\n",
    "    Q = [[0, y_max] for i in range(M)]\n",
    "    Q = np.array(Q)\n",
    "    size_domain = np.linalg.norm(Q[:,0]-Q[:,1])\n",
    "    LSE = TestFunction(r = LogSumExp.h(c, size_domain = size_domain),\n",
    "                    F = LogSumExp.F_tilde(B, size_domain),\n",
    "                    h = LogSumExp.r(alpha_, beta, size_domain),\n",
    "                    solver = FGM_internal, \n",
    "                    get_start_point = lambda x: (1/beta * -x.dot(B), alpha * np.sqrt(N)/beta))\n",
    "    return LSE, Q, alpha_, B, c, beta"
   ]
  },
  {
   "cell_type": "code",
   "execution_count": 3,
   "metadata": {},
   "outputs": [],
   "source": [
    "def parse_results(history, alpha_, B, c, beta, keys = [\"Ellipsoids\", \"Dichotomy\", \"FGM\"]):\n",
    "    s_key = \"\"\n",
    "    s_feas = \"\"\n",
    "    s_time = \"\"\n",
    "    s_value = \"\"\n",
    "    for key in keys:\n",
    "        s_key += key + \"\\t$\"\n",
    "        lambda_, x = history[key][-1][0]        \n",
    "        s_feas += str((B @ x <= c).any()) + \"\\t\\t$\"\n",
    "        s_time += \"%.3f\"%(history[key][-1][1] - history[key][0][1]) + \"\\t\\t$\"\n",
    "        s_value+= \"%.3f\"%(np.log(1 + np.exp(alpha_*x).sum()) + beta * np.linalg.norm(x)**2) + \"\\t\\t$\"\n",
    "    print(s_key)\n",
    "    print(s_feas)\n",
    "    print(s_time)\n",
    "    print(s_value)"
   ]
  },
  {
   "cell_type": "markdown",
   "metadata": {},
   "source": [
    "## M= 2"
   ]
  },
  {
   "cell_type": "code",
   "execution_count": 4,
   "metadata": {},
   "outputs": [],
   "source": [
    "M = 2"
   ]
  },
  {
   "cell_type": "markdown",
   "metadata": {},
   "source": [
    "### N = 100"
   ]
  },
  {
   "cell_type": "code",
   "execution_count": 5,
   "metadata": {},
   "outputs": [],
   "source": [
    "N = 100"
   ]
  },
  {
   "cell_type": "code",
   "execution_count": 6,
   "metadata": {
    "scrolled": true
   },
   "outputs": [
    {
     "name": "stderr",
     "output_type": "stream",
     "text": [
      "/home/elias/Desktop/PROJECTS/SPP/SPP/Solvers/GradientMethods.py:35: RuntimeWarning: divide by zero encountered in double_scalars\n",
      "  est = 2 * min(4 * L * R/N**2, L * R * np.exp(-N/2 * np.sqrt(mu/L)))\n"
     ]
    }
   ],
   "source": [
    "eps = 1e-3\n",
    "\n",
    "LSE, Q, alpha_, B, c, beta = get_LSE(N, M)\n",
    "history = {}\n",
    "methods = create_methods_dict(LSE, np.mean(Q, axis = 1),\n",
    "                              np.linalg.norm(Q[:,0]-Q[:,1]),\n",
    "                              Q, eps, history, time_max = 20,\n",
    "                             stop_cond_args = [alpha_, B, c, beta])\n",
    "comparison.method_comparison(methods)"
   ]
  },
  {
   "cell_type": "code",
   "execution_count": 7,
   "metadata": {},
   "outputs": [
    {
     "name": "stdout",
     "output_type": "stream",
     "text": [
      "Ellipsoids\t$Dichotomy\t$FGM\t$\n",
      "True\t\t$True\t\t$False\t\t$\n",
      "0.392\t\t$0.083\t\t$20.006\t\t$\n",
      "4.615\t\t$4.615\t\t$4.615\t\t$\n"
     ]
    }
   ],
   "source": [
    "parse_results(history, alpha_, B, c, beta)"
   ]
  },
  {
   "cell_type": "code",
   "execution_count": 8,
   "metadata": {
    "scrolled": true
   },
   "outputs": [],
   "source": [
    "eps = 1e-6\n",
    "\n",
    "LSE, Q, alpha_, B, c, beta = get_LSE(N, M)\n",
    "history = {}\n",
    "methods = create_methods_dict(LSE, np.mean(Q, axis = 1),\n",
    "                              np.linalg.norm(Q[:,0]-Q[:,1]),\n",
    "                              Q, eps, history, time_max = 20,\n",
    "                             stop_cond_args = [alpha_, B, c, beta])\n",
    "comparison.method_comparison(methods)"
   ]
  },
  {
   "cell_type": "code",
   "execution_count": 9,
   "metadata": {},
   "outputs": [
    {
     "name": "stdout",
     "output_type": "stream",
     "text": [
      "Ellipsoids\t$Dichotomy\t$FGM\t$\n",
      "True\t\t$True\t\t$False\t\t$\n",
      "1.016\t\t$0.249\t\t$20.002\t\t$\n",
      "4.615\t\t$4.615\t\t$4.615\t\t$\n"
     ]
    }
   ],
   "source": [
    "parse_results(history, alpha_, B, c, beta)"
   ]
  },
  {
   "cell_type": "code",
   "execution_count": 10,
   "metadata": {
    "scrolled": true
   },
   "outputs": [],
   "source": [
    "eps = 1e-9\n",
    "\n",
    "LSE, Q, alpha_, B, c, beta = get_LSE(N, M)\n",
    "history = {}\n",
    "methods = create_methods_dict(LSE, np.mean(Q, axis = 1),\n",
    "                              np.linalg.norm(Q[:,0]-Q[:,1]),\n",
    "                              Q, eps, history, time_max = 20,\n",
    "                             stop_cond_args = [alpha_, B, c, beta])\n",
    "comparison.method_comparison(methods)"
   ]
  },
  {
   "cell_type": "code",
   "execution_count": 11,
   "metadata": {},
   "outputs": [
    {
     "name": "stdout",
     "output_type": "stream",
     "text": [
      "Ellipsoids\t$Dichotomy\t$FGM\t$\n",
      "True\t\t$True\t\t$False\t\t$\n",
      "2.599\t\t$1.561\t\t$20.010\t\t$\n",
      "4.615\t\t$4.615\t\t$4.615\t\t$\n"
     ]
    }
   ],
   "source": [
    "parse_results(history, alpha_, B, c, beta)"
   ]
  },
  {
   "cell_type": "markdown",
   "metadata": {},
   "source": [
    "### N = 1000"
   ]
  },
  {
   "cell_type": "code",
   "execution_count": 12,
   "metadata": {},
   "outputs": [],
   "source": [
    "N = 1000"
   ]
  },
  {
   "cell_type": "code",
   "execution_count": 13,
   "metadata": {
    "scrolled": true
   },
   "outputs": [],
   "source": [
    "eps = 1e-3\n",
    "\n",
    "LSE, Q, alpha_, B, c, beta = get_LSE(N, M)\n",
    "history = {}\n",
    "methods = create_methods_dict(LSE, np.mean(Q, axis = 1),\n",
    "                              np.linalg.norm(Q[:,0]-Q[:,1]),\n",
    "                              Q, eps, history, time_max = 20,\n",
    "                             stop_cond_args = [alpha_, B, c, beta])\n",
    "comparison.method_comparison(methods)"
   ]
  },
  {
   "cell_type": "code",
   "execution_count": 14,
   "metadata": {},
   "outputs": [
    {
     "name": "stdout",
     "output_type": "stream",
     "text": [
      "Ellipsoids\t$Dichotomy\t$FGM\t$\n",
      "True\t\t$True\t\t$False\t\t$\n",
      "0.589\t\t$0.150\t\t$20.010\t\t$\n",
      "6.910\t\t$6.910\t\t$6.909\t\t$\n"
     ]
    }
   ],
   "source": [
    "parse_results(history, alpha_, B, c, beta)"
   ]
  },
  {
   "cell_type": "code",
   "execution_count": 15,
   "metadata": {
    "scrolled": true
   },
   "outputs": [],
   "source": [
    "eps = 1e-6\n",
    "\n",
    "LSE, Q, alpha_, B, c, beta = get_LSE(N, M)\n",
    "history = {}\n",
    "methods = create_methods_dict(LSE, np.mean(Q, axis = 1),\n",
    "                              np.linalg.norm(Q[:,0]-Q[:,1]),\n",
    "                              Q, eps, history, time_max = 20,\n",
    "                             stop_cond_args = [alpha_, B, c, beta])\n",
    "comparison.method_comparison(methods)"
   ]
  },
  {
   "cell_type": "code",
   "execution_count": 16,
   "metadata": {},
   "outputs": [
    {
     "name": "stdout",
     "output_type": "stream",
     "text": [
      "Ellipsoids\t$Dichotomy\t$FGM\t$\n",
      "True\t\t$True\t\t$False\t\t$\n",
      "2.994\t\t$1.485\t\t$20.015\t\t$\n",
      "6.909\t\t$6.909\t\t$6.909\t\t$\n"
     ]
    }
   ],
   "source": [
    "parse_results(history, alpha_, B, c, beta)"
   ]
  },
  {
   "cell_type": "code",
   "execution_count": 17,
   "metadata": {
    "scrolled": true
   },
   "outputs": [],
   "source": [
    "eps = 1e-9\n",
    "\n",
    "LSE, Q, alpha_, B, c, beta = get_LSE(N, M)\n",
    "history = {}\n",
    "methods = create_methods_dict(LSE, np.mean(Q, axis = 1),\n",
    "                              np.linalg.norm(Q[:,0]-Q[:,1]),\n",
    "                              Q, eps, history, time_max = 20,\n",
    "                             stop_cond_args = [alpha_, B, c, beta])\n",
    "comparison.method_comparison(methods)"
   ]
  },
  {
   "cell_type": "code",
   "execution_count": 18,
   "metadata": {},
   "outputs": [
    {
     "name": "stdout",
     "output_type": "stream",
     "text": [
      "Ellipsoids\t$Dichotomy\t$FGM\t$\n",
      "True\t\t$True\t\t$False\t\t$\n",
      "7.237\t\t$7.227\t\t$20.019\t\t$\n",
      "6.909\t\t$6.909\t\t$6.909\t\t$\n"
     ]
    }
   ],
   "source": [
    "parse_results(history, alpha_, B, c, beta)"
   ]
  },
  {
   "cell_type": "markdown",
   "metadata": {},
   "source": [
    "## M= 3"
   ]
  },
  {
   "cell_type": "code",
   "execution_count": 19,
   "metadata": {},
   "outputs": [],
   "source": [
    "M = 3"
   ]
  },
  {
   "cell_type": "markdown",
   "metadata": {},
   "source": [
    "### N = 100"
   ]
  },
  {
   "cell_type": "code",
   "execution_count": 20,
   "metadata": {},
   "outputs": [],
   "source": [
    "N = 100"
   ]
  },
  {
   "cell_type": "code",
   "execution_count": 21,
   "metadata": {
    "scrolled": true
   },
   "outputs": [],
   "source": [
    "eps = 1e-3\n",
    "\n",
    "LSE, Q, alpha_, B, c, beta = get_LSE(N, M)\n",
    "history = {}\n",
    "methods = create_methods_dict(LSE, np.mean(Q, axis = 1),\n",
    "                              np.linalg.norm(Q[:,0]-Q[:,1]),\n",
    "                              Q, eps, history, time_max = 20,\n",
    "                             stop_cond_args = [alpha_, B, c, beta])\n",
    "comparison.method_comparison(methods)"
   ]
  },
  {
   "cell_type": "code",
   "execution_count": 22,
   "metadata": {},
   "outputs": [
    {
     "name": "stdout",
     "output_type": "stream",
     "text": [
      "Ellipsoids\t$Dichotomy\t$FGM\t$\n",
      "True\t\t$True\t\t$False\t\t$\n",
      "0.482\t\t$0.184\t\t$20.003\t\t$\n",
      "4.615\t\t$21.622\t\t$4.615\t\t$\n"
     ]
    }
   ],
   "source": [
    "parse_results(history, alpha_, B, c, beta)"
   ]
  },
  {
   "cell_type": "code",
   "execution_count": 23,
   "metadata": {
    "scrolled": true
   },
   "outputs": [],
   "source": [
    "eps = 1e-6\n",
    "\n",
    "LSE, Q, alpha_, B, c, beta = get_LSE(N, M)\n",
    "history = {}\n",
    "methods = create_methods_dict(LSE, np.mean(Q, axis = 1),\n",
    "                              np.linalg.norm(Q[:,0]-Q[:,1]),\n",
    "                              Q, eps, history, time_max = 20,\n",
    "                             stop_cond_args = [alpha_, B, c, beta])\n",
    "comparison.method_comparison(methods)"
   ]
  },
  {
   "cell_type": "code",
   "execution_count": 24,
   "metadata": {},
   "outputs": [
    {
     "name": "stdout",
     "output_type": "stream",
     "text": [
      "Ellipsoids\t$Dichotomy\t$FGM\t$\n",
      "True\t\t$True\t\t$False\t\t$\n",
      "2.849\t\t$1.484\t\t$20.004\t\t$\n",
      "4.615\t\t$4.615\t\t$4.615\t\t$\n"
     ]
    }
   ],
   "source": [
    "parse_results(history, alpha_, B, c, beta)"
   ]
  },
  {
   "cell_type": "code",
   "execution_count": 25,
   "metadata": {
    "scrolled": true
   },
   "outputs": [],
   "source": [
    "eps = 1e-9\n",
    "\n",
    "LSE, Q, alpha_, B, c, beta = get_LSE(N, M)\n",
    "history = {}\n",
    "methods = create_methods_dict(LSE, np.mean(Q, axis = 1),\n",
    "                              np.linalg.norm(Q[:,0]-Q[:,1]),\n",
    "                              Q, eps, history, time_max = 20,\n",
    "                             stop_cond_args = [alpha_, B, c, beta])\n",
    "comparison.method_comparison(methods)"
   ]
  },
  {
   "cell_type": "code",
   "execution_count": 26,
   "metadata": {},
   "outputs": [
    {
     "name": "stdout",
     "output_type": "stream",
     "text": [
      "Ellipsoids\t$Dichotomy\t$FGM\t$\n",
      "True\t\t$True\t\t$False\t\t$\n",
      "9.750\t\t$12.410\t\t$20.002\t\t$\n",
      "4.615\t\t$4.615\t\t$4.615\t\t$\n"
     ]
    }
   ],
   "source": [
    "parse_results(history, alpha_, B, c, beta)"
   ]
  },
  {
   "cell_type": "markdown",
   "metadata": {},
   "source": [
    "### N = 1000"
   ]
  },
  {
   "cell_type": "code",
   "execution_count": 27,
   "metadata": {},
   "outputs": [],
   "source": [
    "N = 1000"
   ]
  },
  {
   "cell_type": "code",
   "execution_count": 28,
   "metadata": {
    "scrolled": true
   },
   "outputs": [],
   "source": [
    "eps = 1e-3\n",
    "\n",
    "LSE, Q, alpha_, B, c, beta = get_LSE(N, M)\n",
    "history = {}\n",
    "methods = create_methods_dict(LSE, np.mean(Q, axis = 1),\n",
    "                              np.linalg.norm(Q[:,0]-Q[:,1]),\n",
    "                              Q, eps, history, time_max = 20,\n",
    "                             stop_cond_args = [alpha_, B, c, beta])\n",
    "comparison.method_comparison(methods)"
   ]
  },
  {
   "cell_type": "code",
   "execution_count": 29,
   "metadata": {},
   "outputs": [
    {
     "name": "stdout",
     "output_type": "stream",
     "text": [
      "Ellipsoids\t$Dichotomy\t$FGM\t$\n",
      "True\t\t$True\t\t$False\t\t$\n",
      "1.950\t\t$0.693\t\t$20.000\t\t$\n",
      "6.909\t\t$6.910\t\t$6.909\t\t$\n"
     ]
    }
   ],
   "source": [
    "parse_results(history, alpha_, B, c, beta)"
   ]
  },
  {
   "cell_type": "code",
   "execution_count": 30,
   "metadata": {
    "scrolled": true
   },
   "outputs": [],
   "source": [
    "eps = 1e-6\n",
    "\n",
    "LSE, Q, alpha_, B, c, beta = get_LSE(N, M)\n",
    "history = {}\n",
    "methods = create_methods_dict(LSE, np.mean(Q, axis = 1),\n",
    "                              np.linalg.norm(Q[:,0]-Q[:,1]),\n",
    "                              Q, eps, history, time_max = 20,\n",
    "                             stop_cond_args = [alpha_, B, c, beta])\n",
    "comparison.method_comparison(methods)"
   ]
  },
  {
   "cell_type": "code",
   "execution_count": 31,
   "metadata": {
    "scrolled": true
   },
   "outputs": [
    {
     "name": "stdout",
     "output_type": "stream",
     "text": [
      "Ellipsoids\t$Dichotomy\t$FGM\t$\n",
      "True\t\t$True\t\t$False\t\t$\n",
      "14.475\t\t$14.250\t\t$20.003\t\t$\n",
      "6.909\t\t$6.909\t\t$6.909\t\t$\n"
     ]
    }
   ],
   "source": [
    "parse_results(history, alpha_, B, c, beta)"
   ]
  },
  {
   "cell_type": "code",
   "execution_count": 32,
   "metadata": {
    "scrolled": true
   },
   "outputs": [],
   "source": [
    "eps = 1e-9\n",
    "\n",
    "LSE, Q, alpha_, B, c, beta = get_LSE(N, M)\n",
    "history = {}\n",
    "methods = create_methods_dict(LSE, np.mean(Q, axis = 1),\n",
    "                              np.linalg.norm(Q[:,0]-Q[:,1]),\n",
    "                              Q, eps, history, time_max = 40,\n",
    "                             stop_cond_args = [alpha_, B, c, beta])\n",
    "comparison.method_comparison(methods)"
   ]
  },
  {
   "cell_type": "code",
   "execution_count": 33,
   "metadata": {
    "scrolled": true
   },
   "outputs": [
    {
     "name": "stdout",
     "output_type": "stream",
     "text": [
      "Ellipsoids\t$Dichotomy\t$FGM\t$\n",
      "True\t\t$True\t\t$False\t\t$\n",
      "19.689\t\t$30.940\t\t$40.000\t\t$\n",
      "6.909\t\t$6.909\t\t$6.909\t\t$\n"
     ]
    }
   ],
   "source": [
    "parse_results(history, alpha_, B, c, beta)"
   ]
  },
  {
   "cell_type": "markdown",
   "metadata": {},
   "source": [
    "## M= 4"
   ]
  },
  {
   "cell_type": "code",
   "execution_count": 34,
   "metadata": {},
   "outputs": [],
   "source": [
    "M = 4"
   ]
  },
  {
   "cell_type": "markdown",
   "metadata": {},
   "source": [
    "### N = 100"
   ]
  },
  {
   "cell_type": "code",
   "execution_count": 35,
   "metadata": {},
   "outputs": [],
   "source": [
    "N = 100"
   ]
  },
  {
   "cell_type": "code",
   "execution_count": 36,
   "metadata": {
    "scrolled": true
   },
   "outputs": [],
   "source": [
    "eps = 1e-3\n",
    "\n",
    "LSE, Q, alpha_, B, c, beta = get_LSE(N, M)\n",
    "history = {}\n",
    "methods = create_methods_dict(LSE, np.mean(Q, axis = 1),\n",
    "                              np.linalg.norm(Q[:,0]-Q[:,1]),\n",
    "                              Q, eps, history, time_max = 20,\n",
    "                             stop_cond_args = [alpha_, B, c, beta])\n",
    "comparison.method_comparison(methods)"
   ]
  },
  {
   "cell_type": "code",
   "execution_count": 37,
   "metadata": {},
   "outputs": [
    {
     "name": "stdout",
     "output_type": "stream",
     "text": [
      "Ellipsoids\t$Dichotomy\t$FGM\t$\n",
      "True\t\t$True\t\t$False\t\t$\n",
      "1.715\t\t$0.435\t\t$20.002\t\t$\n",
      "4.615\t\t$4.615\t\t$4.615\t\t$\n"
     ]
    }
   ],
   "source": [
    "parse_results(history, alpha_, B, c, beta)"
   ]
  },
  {
   "cell_type": "code",
   "execution_count": 38,
   "metadata": {
    "scrolled": true
   },
   "outputs": [],
   "source": [
    "eps = 1e-6\n",
    "\n",
    "LSE, Q, alpha_, B, c, beta = get_LSE(N, M)\n",
    "history = {}\n",
    "methods = create_methods_dict(LSE, np.mean(Q, axis = 1),\n",
    "                              np.linalg.norm(Q[:,0]-Q[:,1]),\n",
    "                              Q, eps, history, time_max = 20,\n",
    "                             stop_cond_args = [alpha_, B, c, beta])\n",
    "comparison.method_comparison(methods)"
   ]
  },
  {
   "cell_type": "code",
   "execution_count": 39,
   "metadata": {},
   "outputs": [
    {
     "name": "stdout",
     "output_type": "stream",
     "text": [
      "Ellipsoids\t$Dichotomy\t$FGM\t$\n",
      "True\t\t$True\t\t$False\t\t$\n",
      "4.575\t\t$2.541\t\t$20.003\t\t$\n",
      "4.615\t\t$4.615\t\t$4.615\t\t$\n"
     ]
    }
   ],
   "source": [
    "parse_results(history, alpha_, B, c, beta)"
   ]
  },
  {
   "cell_type": "code",
   "execution_count": 40,
   "metadata": {
    "scrolled": true
   },
   "outputs": [],
   "source": [
    "eps = 1e-9\n",
    "\n",
    "LSE, Q, alpha_, B, c, beta = get_LSE(N, M)\n",
    "history = {}\n",
    "methods = create_methods_dict(LSE, np.mean(Q, axis = 1),\n",
    "                              np.linalg.norm(Q[:,0]-Q[:,1]),\n",
    "                              Q, eps, history, time_max = 20,\n",
    "                             stop_cond_args = [alpha_, B, c, beta])\n",
    "comparison.method_comparison(methods)"
   ]
  },
  {
   "cell_type": "code",
   "execution_count": 41,
   "metadata": {},
   "outputs": [
    {
     "name": "stdout",
     "output_type": "stream",
     "text": [
      "Ellipsoids\t$Dichotomy\t$FGM\t$\n",
      "True\t\t$True\t\t$False\t\t$\n",
      "15.209\t\t$20.316\t\t$20.005\t\t$\n",
      "4.615\t\t$4.615\t\t$4.615\t\t$\n"
     ]
    }
   ],
   "source": [
    "parse_results(history, alpha_, B, c, beta)"
   ]
  },
  {
   "cell_type": "markdown",
   "metadata": {},
   "source": [
    "### N = 1000"
   ]
  },
  {
   "cell_type": "code",
   "execution_count": 42,
   "metadata": {},
   "outputs": [],
   "source": [
    "N = 1000"
   ]
  },
  {
   "cell_type": "code",
   "execution_count": 43,
   "metadata": {
    "scrolled": true
   },
   "outputs": [],
   "source": [
    "eps = 1e-3\n",
    "\n",
    "LSE, Q, alpha_, B, c, beta = get_LSE(N, M)\n",
    "history = {}\n",
    "methods = create_methods_dict(LSE, np.mean(Q, axis = 1),\n",
    "                              np.linalg.norm(Q[:,0]-Q[:,1]),\n",
    "                              Q, eps, history, time_max = 20,\n",
    "                             stop_cond_args = [alpha_, B, c, beta])\n",
    "comparison.method_comparison(methods)"
   ]
  },
  {
   "cell_type": "code",
   "execution_count": 44,
   "metadata": {},
   "outputs": [
    {
     "name": "stdout",
     "output_type": "stream",
     "text": [
      "Ellipsoids\t$Dichotomy\t$FGM\t$\n",
      "True\t\t$True\t\t$False\t\t$\n",
      "5.729\t\t$5.481\t\t$20.005\t\t$\n",
      "6.909\t\t$6.909\t\t$6.909\t\t$\n"
     ]
    }
   ],
   "source": [
    "parse_results(history, alpha_, B, c, beta)"
   ]
  },
  {
   "cell_type": "code",
   "execution_count": 45,
   "metadata": {
    "scrolled": true
   },
   "outputs": [],
   "source": [
    "eps = 1e-6\n",
    "\n",
    "LSE, Q, alpha_, B, c, beta = get_LSE(N, M)\n",
    "history = {}\n",
    "methods = create_methods_dict(LSE, np.mean(Q, axis = 1),\n",
    "                              np.linalg.norm(Q[:,0]-Q[:,1]),\n",
    "                              Q, eps, history, time_max = 20,\n",
    "                             stop_cond_args = [alpha_, B, c, beta])\n",
    "comparison.method_comparison(methods)"
   ]
  },
  {
   "cell_type": "code",
   "execution_count": 46,
   "metadata": {
    "scrolled": false
   },
   "outputs": [
    {
     "name": "stdout",
     "output_type": "stream",
     "text": [
      "Ellipsoids\t$Dichotomy\t$FGM\t$\n",
      "True\t\t$True\t\t$False\t\t$\n",
      "19.056\t\t$20.158\t\t$20.023\t\t$\n",
      "6.909\t\t$6.909\t\t$6.909\t\t$\n"
     ]
    }
   ],
   "source": [
    "parse_results(history, alpha_, B, c, beta)"
   ]
  },
  {
   "cell_type": "code",
   "execution_count": 51,
   "metadata": {
    "scrolled": true
   },
   "outputs": [],
   "source": [
    "eps = 1e-9\n",
    "\n",
    "LSE, Q, alpha_, B, c, beta = get_LSE(N, M)\n",
    "history = {}\n",
    "methods = create_methods_dict(LSE, np.mean(Q, axis = 1),\n",
    "                              np.linalg.norm(Q[:,0]-Q[:,1]),\n",
    "                              Q, eps, history, time_max = 300,\n",
    "                             stop_cond_args = [alpha_, B, c, beta])\n",
    "comparison.method_comparison(methods)"
   ]
  },
  {
   "cell_type": "code",
   "execution_count": 52,
   "metadata": {},
   "outputs": [
    {
     "name": "stdout",
     "output_type": "stream",
     "text": [
      "Ellipsoids\t$Dichotomy\t$FGM\t$\n",
      "True\t\t$True\t\t$False\t\t$\n",
      "32.583\t\t$88.841\t\t$300.001\t\t$\n",
      "6.909\t\t$6.909\t\t$6.909\t\t$\n"
     ]
    }
   ],
   "source": [
    "parse_results(history, alpha_, B, c, beta)"
   ]
  },
  {
   "cell_type": "code",
   "execution_count": null,
   "metadata": {},
   "outputs": [],
   "source": []
  }
 ],
 "metadata": {
  "anaconda-cloud": {},
  "kernelspec": {
   "display_name": "Python 3",
   "language": "python",
   "name": "python3"
  },
  "language_info": {
   "codemirror_mode": {
    "name": "ipython",
    "version": 3
   },
   "file_extension": ".py",
   "mimetype": "text/x-python",
   "name": "python",
   "nbconvert_exporter": "python",
   "pygments_lexer": "ipython3",
   "version": "3.7.3"
  }
 },
 "nbformat": 4,
 "nbformat_minor": 2
}
