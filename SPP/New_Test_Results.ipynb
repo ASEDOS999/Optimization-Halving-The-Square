{
 "cells": [
  {
   "cell_type": "markdown",
   "metadata": {
    "collapsed": true
   },
   "source": [
    "# Comparison for LogSumExp"
   ]
  },
  {
   "cell_type": "markdown",
   "metadata": {},
   "source": [
    "The LogSumExp-problem with linear consraints:\n",
    "\t$$\\log(1 + \\sum\\limits_{k=1}^n \\exp(\\alpha x_k)) + \\frac{\\beta}{2} \\|\\textbf{x}\\|_2^2 \\rightarrow \\min_{\\textbf{x}\\in \\mathbb{R}^N}$$\n",
    "\t$$\\text{s.t.} (\\textbf{b}_j, \\textbf{x}) - c_j <= 0, j = 1\\dots M$$\n",
    "\t\n",
    "This problem can be converted into saddle point problem:\n",
    "\t$$\\min_{\\textbf{x}} \\max_{\\textbf{y}\\in\\mathbb{R}^M_+} S(\\textbf{x},\\textbf{y}),$$\n",
    "where $S(\\textbf{x}, \\textbf{y}) = r(\\textbf{x})+F(\\textbf{x}, \\textbf{y}) - h(\\textbf{y})$\n",
    "\t$$r(\\textbf{x}) = \\log(1 + \\sum\\limits_{k=1}^n \\exp(\\alpha x_k)) + \\frac{\\beta}{2} \\|\\textbf{x}\\|_2^2$$\n",
    "\t$$F(\\textbf{x}, \\textbf{y}) = \\sum\\limits_{j=1}^M x_j(\\textbf{b}_j, \\textbf{y}) = (\\textbf{x}, B\\textbf{y})$$\n",
    "\t$$h(\\textbf{y}) = (\\textbf{c}, \\textbf{y})$$\n",
    "\n",
    "So N is dimensional of external variable, M - internal. But we will consider the external problem as help problem."
   ]
  },
  {
   "cell_type": "code",
   "execution_count": 1,
   "metadata": {},
   "outputs": [],
   "source": [
    "import numpy as np\n",
    "from TestFunctions import LogSumExp_difalpha as LogSumExp\n",
    "from TestFunctions.TestFunctions import TestFunction\n",
    "from Solvers import GradientMethods\n",
    "from Solvers.HalvCube import Dichotomy_exact\n",
    "from Solvers.GradientMethods import FGM_internal\n",
    "from Solvers.Ellipsoids import ellipsoid\n",
    "import matplotlib.pyplot as plt\n",
    "%matplotlib notebook\n",
    "import comparison\n",
    "import imp\n",
    "\n",
    "from comparison import method_comparison, create_methods_dict"
   ]
  },
  {
   "cell_type": "code",
   "execution_count": 2,
   "metadata": {},
   "outputs": [],
   "source": [
    "def get_LSE(N = 100, M = 2, alpha = 0.001, beta = 0.5e-3, k = 1, eps = 1e-3):\n",
    "    \"\"\"\n",
    "    The function is to get class of LSE. All parameters mathes the\n",
    "    parameters above.\n",
    "    \n",
    "    N is dimensional of primal problem\n",
    "    M is number of constraints. It is also the dual dimension\n",
    "    alpha is parameter of LogSumExp problem\n",
    "    beta is coefficient of l2-regularization for primal problem\n",
    "    \n",
    "    k is parameter for to generate matrix B\n",
    "    \"\"\"\n",
    "    np.random.seed(N*M//13)\n",
    "    alpha_ = np.random.uniform(size = (N,), low = -alpha, high = alpha)\n",
    "    alpha = np.max(np.abs(alpha_))\n",
    "    B = []\n",
    "    for i in range(M):\n",
    "        b = np.random.uniform(low = -k, high = 0, size = (N,)) * np.sign(alpha_)\n",
    "        p = 1\n",
    "        z = np.array(np.random.uniform(low = 0, high = 1, size = (N,))<=p, dtype = np.float32)\n",
    "        B.append(b * z)\n",
    "    B = np.array(B)\n",
    "    #B = np.random.uniform(low = -k, high = 0, size = (M, N))\n",
    "    c = np.ones((M,))\n",
    "    x_ = np.zeros((N,))\n",
    "    f_ = LogSumExp.r(alpha, beta).get_value(x_)\n",
    "    gamma = c.max()\n",
    "    y_max = f_/gamma\n",
    "    Q = [[0, y_max] for i in range(M)]\n",
    "    Q = np.array(Q)\n",
    "    size_domain = np.linalg.norm(Q[:,0]-Q[:,1])\n",
    "    solver = FGM_internal\n",
    "    Q = Q.copy()\n",
    "    beta_ = 2 * eps/ (size_domain**2)\n",
    "    LSE_y_external = TestFunction(r = LogSumExp.h(c, beta = beta_, size_domain = size_domain, y0 = (Q[:,0] + Q[:, 1])/2),\n",
    "                    F = LogSumExp.F_tilde(B, size_domain),\n",
    "                    h = LogSumExp.r(alpha_, beta, size_domain),\n",
    "                    solver = solver, \n",
    "                    get_start_point = lambda x: (1/beta * -x.dot(B), alpha * np.sqrt(N)/beta))\n",
    "    solver = ellipsoid\n",
    "    Q = Q.copy()\n",
    "    LSE_ellipsoid = TestFunction(r = LogSumExp.r(alpha_, beta, size_domain),\n",
    "                    F = LogSumExp.F(B, size_domain),\n",
    "                    h = LogSumExp.h(c, beta = beta_, size_domain = size_domain, y0 = (Q[:,0] + Q[:, 1])/2),\n",
    "                    solver = solver, \n",
    "                    get_start_point = lambda x: ((Q[:,0] + Q[:, 1])/2, size_domain/2))\n",
    "    solver = lambda func, grad, L, mu, start_point, cond: Dichotomy_exact().Halving(func, \n",
    "                                                                                    grad, \n",
    "                                                                                    L, mu, \n",
    "                                                                                    eps, \n",
    "                                                                                    start_point,\n",
    "                                                                                    cond)\n",
    "    Q = Q.copy()\n",
    "    LSE_dichotomy = TestFunction(r = LogSumExp.r(alpha_, beta, size_domain),\n",
    "                F = LogSumExp.F(B, size_domain),\n",
    "                h = LogSumExp.h(c, beta = beta_, size_domain = size_domain, y0 = (Q[:,0] + Q[:, 1])/2),\n",
    "                solver = solver, \n",
    "                get_start_point = lambda x: ((Q[:,0] + Q[:, 1])/2, size_domain/2))\n",
    "    solver = FGM_internal\n",
    "    Q = Q.copy()\n",
    "    LSE_fgm = TestFunction(r = LogSumExp.r(alpha_, beta, size_domain),\n",
    "                F = LogSumExp.F(B, size_domain),\n",
    "                h = LogSumExp.h(c, beta = beta_, size_domain = size_domain, y0 = (Q[:,0] + Q[:, 1])/2),\n",
    "                solver = solver, \n",
    "                get_start_point = lambda x: ((Q[:,0] + Q[:, 1])/2, size_domain/2))\n",
    "    R = alpha * np.sqrt(N)/beta\n",
    "    return (LSE_y_external, Q), (LSE_ellipsoid, R), (LSE_dichotomy, R), (LSE_fgm, R), (alpha_, B, c, beta)"
   ]
  },
  {
   "cell_type": "code",
   "execution_count": 3,
   "metadata": {},
   "outputs": [],
   "source": [
    "def start_comparison(N = 100, M = 2, alpha = 0.001, beta = 1e-6, k = 100, eps = 1e-3, time_max = 0.2):\n",
    "    LSE_res = get_LSE(N = N, M = M, alpha = alpha, beta = beta, k = k, eps = eps)\n",
    "    (LSE_y_external, Q), (LSE_ellipsoid, R), (LSE_dichotomy, R), (LSE_fgm, R), stop_cond_args = LSE_res\n",
    "    keys = {\"FGM\":\"y, x - FGM+FGM\",\n",
    "        \"Ellipsoids\": \"y, x - Ellipsoids+FGM\",\n",
    "        \"Dichotomy\": \"y, x - Dichotomy+FGM\"}\n",
    "    #keys = {\"FGM\":\"y, x - FGM+FGM\",\n",
    "    #    \"Ellipsoids\": \"y, x - Ellipsoids+FGM\"}\n",
    "    history = {}\n",
    "    f_dict = {}\n",
    "    methods = {}\n",
    "    methods = create_methods_dict(LSE_y_external, np.mean(Q, axis = 1),\n",
    "                              np.linalg.norm(Q[:,0]-Q[:,1]),\n",
    "                              Q, eps, history, time_max = time_max, stop_cond_args = stop_cond_args, keys = keys)\n",
    "    for key in methods:\n",
    "        cond = lambda y, R: LSE_y_external.L_xx * R <= 1e-3\n",
    "        f = lambda y: LSE_y_external.get_value(y, LSE_y_external.get_solution(y, cond)[0])\n",
    "        f_dict[key] = f\n",
    "    Q = np.vstack([np.zeros((N, )) - R * np.ones((N,)), np.zeros((N, )) + R * np.ones((N,))]).T\n",
    "    methods[\"x, y - FGM+FGM\"] = create_methods_dict(LSE_fgm, np.mean(Q, axis = 1),\n",
    "                              np.linalg.norm(Q[:,0]-Q[:,1]),\n",
    "                              Q, eps, history, time_max = time_max, inverse = True,  stop_cond_args = stop_cond_args, keys = {\"FGM\":\"x, y - FGM+FGM\"})[\"x, y - FGM+FGM\"]\n",
    "    cond = lambda y, R: LSE_fgm.L_xx * R <= eps\n",
    "    f = lambda y: LSE_fgm.get_value(y, LSE_fgm.get_solution(y, cond)[0])\n",
    "    f_dict[\"x, y - FGM+FGM\"] = f\n",
    "    \"\"\"\n",
    "\n",
    "    methods[\"x, y - FGM+Ellipsoids\"] = create_methods_dict(LSE_ellipsoid, np.mean(Q, axis = 1),\n",
    "                              np.linalg.norm(Q[:,0]-Q[:,1]),\n",
    "                              Q, eps, history, time_max = time_max, inverse = True,  stop_cond_args = stop_cond_args, keys = {\"FGM\":\"x, y - FGM+Ellipsoids\"})[\"x, y - FGM+Ellipsoids\"]\n",
    "    cond = lambda y, R: LSE_ellipsoid.L_yy * R <= eps\n",
    "    f = lambda y: LSE_ellipsoid.get_value(y, LSE_ellipsoid.get_solution(y, cond)[0])\n",
    "    f_dict[\"x, y - FGM+Ellipsoids\"] = f\n",
    "    Q = np.vstack([np.zeros((N, )) - R * np.ones((N,)), np.zeros((N, )) + R * np.ones((N,))]).T\n",
    "    methods[\"x, y - FGM+Dichotomy\"] = create_methods_dict(LSE_dichotomy, np.mean(Q, axis = 1),\n",
    "                              np.linalg.norm(Q[:,0]-Q[:,1]),\n",
    "                              Q, eps, history, time_max = time_max, inverse = True, stop_cond_args = stop_cond_args, keys = {\"FGM\":\"x, y - FGM+Dichotomy\"})[\"x, y - FGM+Dichotomy\"]\n",
    "    cond = lambda y, R: LSE_dichotomy.L_xx * R <= eps\n",
    "    \"\"\"\n",
    "    f = lambda y: LSE_dichotomy.get_value(y, LSE_dichotomy.get_solution(y, cond)[0])\n",
    "    f_dict[\"x, y - FGM+Dichotomy\"] = f\n",
    "    #comparison.method_comparison(methods)\n",
    "    for key in methods:\n",
    "        methods[key]()\n",
    "    return history, stop_cond_args"
   ]
  },
  {
   "cell_type": "code",
   "execution_count": 4,
   "metadata": {},
   "outputs": [],
   "source": [
    "def parse_results(history, alpha_, B, c, beta, keys = [\"Ellipsoids\", \"Dichotomy\", \"FGM\"]):\n",
    "    s_key = \"\"\n",
    "    s_feas = \"\"\n",
    "    s_time = \"\"\n",
    "    s_value = \"\"\n",
    "    for key in keys:\n",
    "        s_key += key + \"\\t$\"\n",
    "        if \"y, x\" in key:\n",
    "            lambda_, x = history[key][-1][0]\n",
    "        else:\n",
    "            x, lambda_ = history[key][-1][0]\n",
    "        s_feas += str((B @ x <= c).any()) + \"\\t\\t$\"\n",
    "        s_time += \"%.3f\"%(history[key][-1][1] - history[key][0][1]) + \"\\t\\t$\"\n",
    "        x_ = alpha_ * x\n",
    "        M = np.max(x_)\n",
    "        x_ = x_ - M\n",
    "        s_value+= \"%.3f\"%(M + np.log(np.exp(-M) + np.exp(x_).sum()) + beta * np.linalg.norm(x)**2) + \"\\t\\t$\"\n",
    "    print(s_key)\n",
    "    print(s_feas)\n",
    "    print(s_time)\n",
    "    print(s_value)"
   ]
  },
  {
   "cell_type": "markdown",
   "metadata": {},
   "source": [
    "## M= 2"
   ]
  },
  {
   "cell_type": "code",
   "execution_count": 5,
   "metadata": {},
   "outputs": [],
   "source": [
    "M = 2"
   ]
  },
  {
   "cell_type": "markdown",
   "metadata": {},
   "source": [
    "### N = 100"
   ]
  },
  {
   "cell_type": "code",
   "execution_count": 6,
   "metadata": {},
   "outputs": [],
   "source": [
    "N = 100"
   ]
  },
  {
   "cell_type": "code",
   "execution_count": 7,
   "metadata": {
    "scrolled": false
   },
   "outputs": [
    {
     "name": "stderr",
     "output_type": "stream",
     "text": [
      "/home/elias/Desktop/PROJECTS/SPP/SPP/Solvers/GradientMethods.py:40: RuntimeWarning: divide by zero encountered in double_scalars\n",
      "  est = 2 * min(4 * L * R/N**2, L * R * np.exp(-N/2 * np.sqrt(mu/L)))\n"
     ]
    }
   ],
   "source": [
    "eps = 1e-3\n",
    "history, stop_cond_args = start_comparison(N = N, M = M, eps = eps, time_max = 10)\n",
    "alpha_, B, c, beta = stop_cond_args"
   ]
  },
  {
   "cell_type": "code",
   "execution_count": 8,
   "metadata": {},
   "outputs": [
    {
     "name": "stdout",
     "output_type": "stream",
     "text": [
      "y, x - FGM+FGM\t$y, x - Ellipsoids+FGM\t$y, x - Dichotomy+FGM\t$x, y - FGM+FGM\t$\n",
      "False\t\t$True\t\t$True\t\t$False\t\t$\n",
      "0.024\t\t$0.112\t\t$0.049\t\t$10.000\t\t$\n",
      "4.615\t\t$4.792\t\t$5.518\t\t$4.615\t\t$\n"
     ]
    },
    {
     "data": {
      "text/plain": [
       "0.0013880729675292969"
      ]
     },
     "execution_count": 8,
     "metadata": {},
     "output_type": "execute_result"
    }
   ],
   "source": [
    "parse_results(history, alpha_, B, c, beta, keys = history.keys())\n",
    "history[\"y, x - Dichotomy+FGM\"][-1][1] - history[\"y, x - Dichotomy+FGM\"][-2][1]"
   ]
  },
  {
   "cell_type": "code",
   "execution_count": 9,
   "metadata": {
    "scrolled": true
   },
   "outputs": [],
   "source": [
    "eps = 1e-6\n",
    "history, stop_cond_args = start_comparison(N = N, M = M, eps = eps, time_max = 40)\n",
    "alpha_, B, c, beta = stop_cond_args"
   ]
  },
  {
   "cell_type": "code",
   "execution_count": 10,
   "metadata": {},
   "outputs": [
    {
     "name": "stdout",
     "output_type": "stream",
     "text": [
      "y, x - FGM+FGM\t$y, x - Ellipsoids+FGM\t$y, x - Dichotomy+FGM\t$x, y - FGM+FGM\t$\n",
      "False\t\t$True\t\t$True\t\t$False\t\t$\n",
      "24.400\t\t$0.290\t\t$40.003\t\t$40.001\t\t$\n",
      "4.615\t\t$4.615\t\t$4.615\t\t$4.615\t\t$\n"
     ]
    },
    {
     "data": {
      "text/plain": [
       "0.003991127014160156"
      ]
     },
     "execution_count": 10,
     "metadata": {},
     "output_type": "execute_result"
    }
   ],
   "source": [
    "parse_results(history, alpha_, B, c, beta, keys = history.keys())\n",
    "history[\"y, x - Dichotomy+FGM\"][-1][1] - history[\"y, x - Dichotomy+FGM\"][-2][1]"
   ]
  },
  {
   "cell_type": "code",
   "execution_count": 11,
   "metadata": {
    "scrolled": false
   },
   "outputs": [],
   "source": [
    "eps = 1e-9\n",
    "history, stop_cond_args = start_comparison(N = N, M = M,\n",
    "                                           eps = eps,\n",
    "                                           time_max = 5)\n",
    "alpha_, B, c, beta = stop_cond_args"
   ]
  },
  {
   "cell_type": "code",
   "execution_count": 12,
   "metadata": {},
   "outputs": [
    {
     "name": "stdout",
     "output_type": "stream",
     "text": [
      "y, x - FGM+FGM\t$y, x - Ellipsoids+FGM\t$y, x - Dichotomy+FGM\t$x, y - FGM+FGM\t$\n",
      "False\t\t$False\t\t$True\t\t$True\t\t$\n",
      "5.003\t\t$0.614\t\t$5.005\t\t$5.001\t\t$\n",
      "4.615\t\t$4.615\t\t$4.615\t\t$4.615\t\t$\n"
     ]
    },
    {
     "data": {
      "text/plain": [
       "0.00949716567993164"
      ]
     },
     "execution_count": 12,
     "metadata": {},
     "output_type": "execute_result"
    }
   ],
   "source": [
    "parse_results(history, alpha_, B, c, beta, keys = history.keys())\n",
    "history[\"y, x - Dichotomy+FGM\"][-1][1] - history[\"y, x - Dichotomy+FGM\"][-2][1]"
   ]
  },
  {
   "cell_type": "markdown",
   "metadata": {},
   "source": [
    "### N = 1000"
   ]
  },
  {
   "cell_type": "code",
   "execution_count": 13,
   "metadata": {},
   "outputs": [],
   "source": [
    "M=2\n",
    "N = 1000"
   ]
  },
  {
   "cell_type": "code",
   "execution_count": 14,
   "metadata": {
    "scrolled": true
   },
   "outputs": [],
   "source": [
    "eps = 1e-7\n",
    "history, stop_cond_args = start_comparison(N = N, M = M, eps = eps, time_max = 1)\n",
    "alpha_, B, c, beta = stop_cond_args"
   ]
  },
  {
   "cell_type": "code",
   "execution_count": 15,
   "metadata": {},
   "outputs": [
    {
     "name": "stdout",
     "output_type": "stream",
     "text": [
      "y, x - FGM+FGM\t$y, x - Ellipsoids+FGM\t$y, x - Dichotomy+FGM\t$x, y - FGM+FGM\t$\n",
      "False\t\t$True\t\t$True\t\t$True\t\t$\n",
      "1.001\t\t$0.808\t\t$0.469\t\t$1.001\t\t$\n",
      "6.909\t\t$6.909\t\t$6.909\t\t$6.909\t\t$\n"
     ]
    },
    {
     "data": {
      "text/plain": [
       "(76, 81)"
      ]
     },
     "execution_count": 15,
     "metadata": {},
     "output_type": "execute_result"
    }
   ],
   "source": [
    "parse_results(history, alpha_, B, c, beta, keys = history.keys())\n",
    "len(history[\"y, x - Dichotomy+FGM\"]), len(history[\"y, x - FGM+FGM\"])"
   ]
  },
  {
   "cell_type": "code",
   "execution_count": 16,
   "metadata": {
    "scrolled": false
   },
   "outputs": [],
   "source": [
    "eps = 1e-6\n",
    "history, stop_cond_args = start_comparison(N = N, M = M, eps = eps, time_max = 1)\n",
    "alpha_, B, c, beta = stop_cond_args"
   ]
  },
  {
   "cell_type": "code",
   "execution_count": 17,
   "metadata": {
    "scrolled": true
   },
   "outputs": [
    {
     "name": "stdout",
     "output_type": "stream",
     "text": [
      "y, x - FGM+FGM\t$y, x - Ellipsoids+FGM\t$y, x - Dichotomy+FGM\t$x, y - FGM+FGM\t$\n",
      "False\t\t$True\t\t$True\t\t$True\t\t$\n",
      "1.005\t\t$0.536\t\t$0.305\t\t$1.000\t\t$\n",
      "6.909\t\t$6.909\t\t$6.909\t\t$6.909\t\t$\n"
     ]
    },
    {
     "data": {
      "text/plain": [
       "(65, 94)"
      ]
     },
     "execution_count": 17,
     "metadata": {},
     "output_type": "execute_result"
    }
   ],
   "source": [
    "parse_results(history, alpha_, B, c, beta, keys = history.keys())\n",
    "len(history[\"y, x - Dichotomy+FGM\"]), len(history[\"y, x - FGM+FGM\"])"
   ]
  },
  {
   "cell_type": "code",
   "execution_count": 19,
   "metadata": {
    "scrolled": false
   },
   "outputs": [],
   "source": [
    "eps = 1e-9\n",
    "history, stop_cond_args = start_comparison(N = N, M = M, eps = eps, time_max = 20)\n",
    "alpha_, B, c, beta = stop_cond_args"
   ]
  },
  {
   "cell_type": "code",
   "execution_count": 20,
   "metadata": {},
   "outputs": [
    {
     "name": "stdout",
     "output_type": "stream",
     "text": [
      "y, x - FGM+FGM\t$y, x - Ellipsoids+FGM\t$y, x - Dichotomy+FGM\t$x, y - FGM+FGM\t$\n",
      "False\t\t$True\t\t$True\t\t$True\t\t$\n",
      "20.001\t\t$1.896\t\t$20.001\t\t$20.001\t\t$\n",
      "6.909\t\t$6.909\t\t$6.909\t\t$6.909\t\t$\n"
     ]
    },
    {
     "data": {
      "text/plain": [
       "0.01411581039428711"
      ]
     },
     "execution_count": 20,
     "metadata": {},
     "output_type": "execute_result"
    }
   ],
   "source": [
    "parse_results(history, alpha_, B, c, beta, keys = history.keys())\n",
    "history[\"y, x - Dichotomy+FGM\"][-1][1] - history[\"y, x - Dichotomy+FGM\"][-2][1]"
   ]
  },
  {
   "cell_type": "markdown",
   "metadata": {},
   "source": [
    "## M= 3"
   ]
  },
  {
   "cell_type": "code",
   "execution_count": 21,
   "metadata": {},
   "outputs": [],
   "source": [
    "M = 3"
   ]
  },
  {
   "cell_type": "markdown",
   "metadata": {},
   "source": [
    "### N = 100"
   ]
  },
  {
   "cell_type": "code",
   "execution_count": 22,
   "metadata": {},
   "outputs": [],
   "source": [
    "N = 100"
   ]
  },
  {
   "cell_type": "code",
   "execution_count": 23,
   "metadata": {
    "scrolled": false
   },
   "outputs": [
    {
     "name": "stderr",
     "output_type": "stream",
     "text": [
      "/home/elias/Desktop/PROJECTS/SPP/SPP/TestFunctions/LogSumExp_difalpha.py:46: RuntimeWarning: overflow encountered in exp\n",
      "  return alpha * np.exp(x_)/ (np.exp(-x_max) + np.exp(x_).sum()) + beta*x\n"
     ]
    }
   ],
   "source": [
    "eps = 1e-3\n",
    "history, stop_cond_args = start_comparison(N = N, M = M, eps = eps, time_max = 40)\n",
    "alpha_, B, c, beta = stop_cond_args"
   ]
  },
  {
   "cell_type": "code",
   "execution_count": 24,
   "metadata": {},
   "outputs": [
    {
     "name": "stdout",
     "output_type": "stream",
     "text": [
      "y, x - FGM+FGM\t$y, x - Ellipsoids+FGM\t$y, x - Dichotomy+FGM\t$x, y - FGM+FGM\t$\n",
      "False\t\t$True\t\t$True\t\t$False\t\t$\n",
      "0.014\t\t$0.304\t\t$0.095\t\t$40.000\t\t$\n",
      "4.615\t\t$4.881\t\t$6.356\t\t$4.615\t\t$\n"
     ]
    },
    {
     "data": {
      "text/plain": [
       "0.0010523796081542969"
      ]
     },
     "execution_count": 24,
     "metadata": {},
     "output_type": "execute_result"
    }
   ],
   "source": [
    "parse_results(history, alpha_, B, c, beta, keys = history.keys())\n",
    "history[\"y, x - Dichotomy+FGM\"][-1][1] - history[\"y, x - Dichotomy+FGM\"][-2][1]"
   ]
  },
  {
   "cell_type": "code",
   "execution_count": 25,
   "metadata": {
    "scrolled": false
   },
   "outputs": [],
   "source": [
    "eps = 1e-6\n",
    "history, stop_cond_args = start_comparison(N = N, M = M, eps = eps, time_max = 40)\n",
    "alpha_, B, c, beta = stop_cond_args"
   ]
  },
  {
   "cell_type": "code",
   "execution_count": 26,
   "metadata": {
    "scrolled": true
   },
   "outputs": [
    {
     "name": "stdout",
     "output_type": "stream",
     "text": [
      "y, x - FGM+FGM\t$y, x - Ellipsoids+FGM\t$y, x - Dichotomy+FGM\t$x, y - FGM+FGM\t$\n",
      "False\t\t$False\t\t$True\t\t$False\t\t$\n",
      "30.083\t\t$0.743\t\t$40.002\t\t$40.001\t\t$\n",
      "4.615\t\t$4.615\t\t$4.615\t\t$4.615\t\t$\n"
     ]
    },
    {
     "data": {
      "text/plain": [
       "0.004060268402099609"
      ]
     },
     "execution_count": 26,
     "metadata": {},
     "output_type": "execute_result"
    }
   ],
   "source": [
    "parse_results(history, alpha_, B, c, beta, keys = history.keys())\n",
    "history[\"y, x - Dichotomy+FGM\"][-1][1] - history[\"y, x - Dichotomy+FGM\"][-2][1]"
   ]
  },
  {
   "cell_type": "code",
   "execution_count": 27,
   "metadata": {},
   "outputs": [
    {
     "data": {
      "text/plain": [
       "array([3.36971728e-09, 5.15779911e-08, 3.43853274e-08])"
      ]
     },
     "execution_count": 27,
     "metadata": {},
     "output_type": "execute_result"
    }
   ],
   "source": [
    "y, x = history[\"y, x - Dichotomy+FGM\"][-1][0]\n",
    "y"
   ]
  },
  {
   "cell_type": "code",
   "execution_count": 28,
   "metadata": {
    "scrolled": false
   },
   "outputs": [],
   "source": [
    "eps = 1e-9\n",
    "history, stop_cond_args = start_comparison(N = N, M = M, eps = eps, time_max = 40)\n",
    "alpha_, B, c, beta = stop_cond_args"
   ]
  },
  {
   "cell_type": "code",
   "execution_count": 29,
   "metadata": {},
   "outputs": [
    {
     "name": "stdout",
     "output_type": "stream",
     "text": [
      "y, x - FGM+FGM\t$y, x - Ellipsoids+FGM\t$y, x - Dichotomy+FGM\t$x, y - FGM+FGM\t$\n",
      "False\t\t$True\t\t$True\t\t$True\t\t$\n",
      "40.006\t\t$1.843\t\t$40.007\t\t$40.000\t\t$\n",
      "4.615\t\t$4.615\t\t$4.615\t\t$4.615\t\t$\n"
     ]
    },
    {
     "data": {
      "text/plain": [
       "0.007762908935546875"
      ]
     },
     "execution_count": 29,
     "metadata": {},
     "output_type": "execute_result"
    }
   ],
   "source": [
    "parse_results(history, alpha_, B, c, beta, keys = history.keys())\n",
    "history[\"y, x - Dichotomy+FGM\"][-1][1] - history[\"y, x - Dichotomy+FGM\"][-2][1]"
   ]
  },
  {
   "cell_type": "markdown",
   "metadata": {},
   "source": [
    "### N = 1000"
   ]
  },
  {
   "cell_type": "code",
   "execution_count": 30,
   "metadata": {},
   "outputs": [],
   "source": [
    "N = 1000"
   ]
  },
  {
   "cell_type": "code",
   "execution_count": 31,
   "metadata": {
    "scrolled": false
   },
   "outputs": [],
   "source": [
    "eps = 1e-3\n",
    "history, stop_cond_args = start_comparison(N = N, M = M, eps = eps, time_max = 40)\n",
    "alpha_, B, c, beta = stop_cond_args"
   ]
  },
  {
   "cell_type": "code",
   "execution_count": 32,
   "metadata": {},
   "outputs": [
    {
     "name": "stdout",
     "output_type": "stream",
     "text": [
      "y, x - FGM+FGM\t$y, x - Ellipsoids+FGM\t$y, x - Dichotomy+FGM\t$x, y - FGM+FGM\t$\n",
      "False\t\t$True\t\t$True\t\t$False\t\t$\n",
      "0.031\t\t$0.622\t\t$0.194\t\t$40.001\t\t$\n",
      "6.909\t\t$6.925\t\t$6.986\t\t$6.909\t\t$\n"
     ]
    },
    {
     "data": {
      "text/plain": [
       "0.0023660659790039062"
      ]
     },
     "execution_count": 32,
     "metadata": {},
     "output_type": "execute_result"
    }
   ],
   "source": [
    "parse_results(history, alpha_, B, c, beta, keys = history.keys())\n",
    "history[\"y, x - Dichotomy+FGM\"][-1][1] - history[\"y, x - Dichotomy+FGM\"][-2][1]"
   ]
  },
  {
   "cell_type": "code",
   "execution_count": 33,
   "metadata": {
    "scrolled": false
   },
   "outputs": [],
   "source": [
    "eps = 1e-6\n",
    "history, stop_cond_args = start_comparison(N = N, M = M, eps = eps, time_max = 40)\n",
    "alpha_, B, c, beta = stop_cond_args"
   ]
  },
  {
   "cell_type": "code",
   "execution_count": 34,
   "metadata": {},
   "outputs": [
    {
     "name": "stdout",
     "output_type": "stream",
     "text": [
      "y, x - FGM+FGM\t$y, x - Ellipsoids+FGM\t$y, x - Dichotomy+FGM\t$x, y - FGM+FGM\t$\n",
      "False\t\t$True\t\t$True\t\t$False\t\t$\n",
      "5.207\t\t$1.445\t\t$0.492\t\t$40.001\t\t$\n",
      "6.909\t\t$6.909\t\t$6.909\t\t$6.909\t\t$\n"
     ]
    },
    {
     "data": {
      "text/plain": [
       "0.008520841598510742"
      ]
     },
     "execution_count": 34,
     "metadata": {},
     "output_type": "execute_result"
    }
   ],
   "source": [
    "parse_results(history, alpha_, B, c, beta, keys = history.keys())\n",
    "history[\"y, x - Dichotomy+FGM\"][-1][1] - history[\"y, x - Dichotomy+FGM\"][-2][1]"
   ]
  },
  {
   "cell_type": "code",
   "execution_count": 35,
   "metadata": {
    "scrolled": false
   },
   "outputs": [],
   "source": [
    "eps = 1e-9\n",
    "history, stop_cond_args = start_comparison(N = N, M = M, eps = eps, time_max = 40)\n",
    "alpha_, B, c, beta = stop_cond_args"
   ]
  },
  {
   "cell_type": "code",
   "execution_count": 36,
   "metadata": {},
   "outputs": [
    {
     "name": "stdout",
     "output_type": "stream",
     "text": [
      "y, x - FGM+FGM\t$y, x - Ellipsoids+FGM\t$y, x - Dichotomy+FGM\t$x, y - FGM+FGM\t$\n",
      "False\t\t$True\t\t$True\t\t$True\t\t$\n",
      "40.013\t\t$3.503\t\t$40.011\t\t$40.001\t\t$\n",
      "6.909\t\t$6.909\t\t$6.909\t\t$6.909\t\t$\n"
     ]
    },
    {
     "data": {
      "text/plain": [
       "0.014456510543823242"
      ]
     },
     "execution_count": 36,
     "metadata": {},
     "output_type": "execute_result"
    }
   ],
   "source": [
    "parse_results(history, alpha_, B, c, beta, keys = history.keys())\n",
    "history[\"y, x - Dichotomy+FGM\"][-1][1] - history[\"y, x - Dichotomy+FGM\"][-2][1]"
   ]
  },
  {
   "cell_type": "markdown",
   "metadata": {},
   "source": [
    "## M= 4"
   ]
  },
  {
   "cell_type": "code",
   "execution_count": 37,
   "metadata": {},
   "outputs": [],
   "source": [
    "M = 4"
   ]
  },
  {
   "cell_type": "markdown",
   "metadata": {},
   "source": [
    "### N = 100"
   ]
  },
  {
   "cell_type": "code",
   "execution_count": 38,
   "metadata": {},
   "outputs": [],
   "source": [
    "N = 100"
   ]
  },
  {
   "cell_type": "code",
   "execution_count": 39,
   "metadata": {
    "scrolled": false
   },
   "outputs": [],
   "source": [
    "eps = 1e-3\n",
    "history, stop_cond_args = start_comparison(N = N, M = M, eps = eps, time_max = 40)\n",
    "alpha_, B, c, beta = stop_cond_args"
   ]
  },
  {
   "cell_type": "code",
   "execution_count": 40,
   "metadata": {},
   "outputs": [
    {
     "name": "stdout",
     "output_type": "stream",
     "text": [
      "y, x - FGM+FGM\t$y, x - Ellipsoids+FGM\t$y, x - Dichotomy+FGM\t$x, y - FGM+FGM\t$\n",
      "False\t\t$True\t\t$True\t\t$False\t\t$\n",
      "0.013\t\t$0.461\t\t$0.147\t\t$40.001\t\t$\n",
      "4.615\t\t$4.850\t\t$5.268\t\t$4.615\t\t$\n"
     ]
    },
    {
     "data": {
      "text/plain": [
       "0.0014693737030029297"
      ]
     },
     "execution_count": 40,
     "metadata": {},
     "output_type": "execute_result"
    }
   ],
   "source": [
    "parse_results(history, alpha_, B, c, beta, keys = history.keys())\n",
    "history[\"y, x - Dichotomy+FGM\"][-1][1] - history[\"y, x - Dichotomy+FGM\"][-2][1]"
   ]
  },
  {
   "cell_type": "code",
   "execution_count": 41,
   "metadata": {
    "scrolled": false
   },
   "outputs": [],
   "source": [
    "eps = 1e-6\n",
    "history, stop_cond_args = start_comparison(N = N, M = M, eps = eps, time_max = 40)\n",
    "alpha_, B, c, beta = stop_cond_args"
   ]
  },
  {
   "cell_type": "code",
   "execution_count": 42,
   "metadata": {},
   "outputs": [
    {
     "name": "stdout",
     "output_type": "stream",
     "text": [
      "y, x - FGM+FGM\t$y, x - Ellipsoids+FGM\t$y, x - Dichotomy+FGM\t$x, y - FGM+FGM\t$\n",
      "False\t\t$True\t\t$True\t\t$False\t\t$\n",
      "31.091\t\t$1.101\t\t$40.001\t\t$40.001\t\t$\n",
      "4.615\t\t$4.615\t\t$4.615\t\t$4.615\t\t$\n"
     ]
    },
    {
     "data": {
      "text/plain": [
       "0.004576683044433594"
      ]
     },
     "execution_count": 42,
     "metadata": {},
     "output_type": "execute_result"
    }
   ],
   "source": [
    "parse_results(history, alpha_, B, c, beta, keys = history.keys())\n",
    "history[\"y, x - Dichotomy+FGM\"][-1][1] - history[\"y, x - Dichotomy+FGM\"][-2][1]"
   ]
  },
  {
   "cell_type": "code",
   "execution_count": 43,
   "metadata": {
    "scrolled": false
   },
   "outputs": [],
   "source": [
    "eps = 1e-9\n",
    "history, stop_cond_args = start_comparison(N = N, M = M, eps = eps, time_max = 40)\n",
    "alpha_, B, c, beta = stop_cond_args"
   ]
  },
  {
   "cell_type": "code",
   "execution_count": 44,
   "metadata": {},
   "outputs": [
    {
     "name": "stdout",
     "output_type": "stream",
     "text": [
      "y, x - FGM+FGM\t$y, x - Ellipsoids+FGM\t$y, x - Dichotomy+FGM\t$x, y - FGM+FGM\t$\n",
      "False\t\t$True\t\t$True\t\t$True\t\t$\n",
      "40.002\t\t$2.722\t\t$40.004\t\t$40.001\t\t$\n",
      "4.615\t\t$4.615\t\t$4.615\t\t$4.615\t\t$\n"
     ]
    },
    {
     "data": {
      "text/plain": [
       "0.0080413818359375"
      ]
     },
     "execution_count": 44,
     "metadata": {},
     "output_type": "execute_result"
    }
   ],
   "source": [
    "parse_results(history, alpha_, B, c, beta, keys = history.keys())\n",
    "history[\"y, x - Dichotomy+FGM\"][-1][1] - history[\"y, x - Dichotomy+FGM\"][-2][1]"
   ]
  },
  {
   "cell_type": "markdown",
   "metadata": {},
   "source": [
    "### N = 1000"
   ]
  },
  {
   "cell_type": "code",
   "execution_count": 45,
   "metadata": {},
   "outputs": [],
   "source": [
    "N = 1000"
   ]
  },
  {
   "cell_type": "code",
   "execution_count": 46,
   "metadata": {
    "scrolled": false
   },
   "outputs": [],
   "source": [
    "eps = 1e-3\n",
    "history, stop_cond_args = start_comparison(N = N, M = M, eps = eps, time_max = 40)\n",
    "alpha_, B, c, beta = stop_cond_args"
   ]
  },
  {
   "cell_type": "code",
   "execution_count": 47,
   "metadata": {},
   "outputs": [
    {
     "name": "stdout",
     "output_type": "stream",
     "text": [
      "y, x - FGM+FGM\t$y, x - Ellipsoids+FGM\t$y, x - Dichotomy+FGM\t$x, y - FGM+FGM\t$\n",
      "False\t\t$True\t\t$True\t\t$False\t\t$\n",
      "0.024\t\t$1.143\t\t$0.280\t\t$40.001\t\t$\n",
      "6.909\t\t$6.914\t\t$6.939\t\t$6.909\t\t$\n"
     ]
    },
    {
     "data": {
      "text/plain": [
       "0.0030040740966796875"
      ]
     },
     "execution_count": 47,
     "metadata": {},
     "output_type": "execute_result"
    }
   ],
   "source": [
    "parse_results(history, alpha_, B, c, beta, keys = history.keys())\n",
    "history[\"y, x - Dichotomy+FGM\"][-1][1] - history[\"y, x - Dichotomy+FGM\"][-2][1]"
   ]
  },
  {
   "cell_type": "code",
   "execution_count": 48,
   "metadata": {
    "scrolled": false
   },
   "outputs": [],
   "source": [
    "eps = 1e-6\n",
    "history, stop_cond_args = start_comparison(N = N, M = M, eps = eps, time_max = 40)\n",
    "alpha_, B, c, beta = stop_cond_args"
   ]
  },
  {
   "cell_type": "code",
   "execution_count": 49,
   "metadata": {},
   "outputs": [
    {
     "name": "stdout",
     "output_type": "stream",
     "text": [
      "y, x - FGM+FGM\t$y, x - Ellipsoids+FGM\t$y, x - Dichotomy+FGM\t$x, y - FGM+FGM\t$\n",
      "False\t\t$True\t\t$True\t\t$True\t\t$\n",
      "4.894\t\t$2.588\t\t$0.718\t\t$40.001\t\t$\n",
      "6.909\t\t$6.909\t\t$6.909\t\t$6.909\t\t$\n"
     ]
    },
    {
     "data": {
      "text/plain": [
       "0.008772850036621094"
      ]
     },
     "execution_count": 49,
     "metadata": {},
     "output_type": "execute_result"
    }
   ],
   "source": [
    "parse_results(history, alpha_, B, c, beta, keys = history.keys())\n",
    "history[\"y, x - Dichotomy+FGM\"][-1][1] - history[\"y, x - Dichotomy+FGM\"][-2][1]"
   ]
  },
  {
   "cell_type": "code",
   "execution_count": 50,
   "metadata": {
    "scrolled": false
   },
   "outputs": [],
   "source": [
    "eps = 1e-9\n",
    "history, stop_cond_args = start_comparison(N = N, M = M, eps = eps, time_max = 40)\n",
    "alpha_, B, c, beta = stop_cond_args"
   ]
  },
  {
   "cell_type": "code",
   "execution_count": 51,
   "metadata": {},
   "outputs": [
    {
     "name": "stdout",
     "output_type": "stream",
     "text": [
      "y, x - FGM+FGM\t$y, x - Ellipsoids+FGM\t$y, x - Dichotomy+FGM\t$x, y - FGM+FGM\t$\n",
      "False\t\t$True\t\t$True\t\t$True\t\t$\n",
      "40.006\t\t$5.368\t\t$40.004\t\t$40.000\t\t$\n",
      "6.909\t\t$6.909\t\t$6.909\t\t$6.909\t\t$\n"
     ]
    },
    {
     "data": {
      "text/plain": [
       "0.01441049575805664"
      ]
     },
     "execution_count": 51,
     "metadata": {},
     "output_type": "execute_result"
    }
   ],
   "source": [
    "parse_results(history, alpha_, B, c, beta, keys = history.keys())\n",
    "history[\"y, x - Dichotomy+FGM\"][-1][1] - history[\"y, x - Dichotomy+FGM\"][-2][1]"
   ]
  },
  {
   "cell_type": "code",
   "execution_count": 52,
   "metadata": {},
   "outputs": [
    {
     "data": {
      "text/plain": [
       "2635"
      ]
     },
     "execution_count": 52,
     "metadata": {},
     "output_type": "execute_result"
    }
   ],
   "source": [
    "len(history[\"y, x - Dichotomy+FGM\"])"
   ]
  },
  {
   "cell_type": "code",
   "execution_count": 53,
   "metadata": {},
   "outputs": [
    {
     "data": {
      "text/plain": [
       "2853"
      ]
     },
     "execution_count": 53,
     "metadata": {},
     "output_type": "execute_result"
    }
   ],
   "source": [
    "len(history[\"y, x - FGM+FGM\"])"
   ]
  },
  {
   "cell_type": "code",
   "execution_count": null,
   "metadata": {},
   "outputs": [],
   "source": []
  }
 ],
 "metadata": {
  "anaconda-cloud": {},
  "kernelspec": {
   "display_name": "Python 3",
   "language": "python",
   "name": "python3"
  },
  "language_info": {
   "codemirror_mode": {
    "name": "ipython",
    "version": 3
   },
   "file_extension": ".py",
   "mimetype": "text/x-python",
   "name": "python",
   "nbconvert_exporter": "python",
   "pygments_lexer": "ipython3",
   "version": "3.7.3"
  }
 },
 "nbformat": 4,
 "nbformat_minor": 2
}
