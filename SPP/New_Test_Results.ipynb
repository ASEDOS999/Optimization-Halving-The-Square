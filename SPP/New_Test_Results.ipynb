{
 "cells": [
  {
   "cell_type": "markdown",
   "metadata": {
    "collapsed": true
   },
   "source": [
    "# Comparison for LogSumExp"
   ]
  },
  {
   "cell_type": "markdown",
   "metadata": {},
   "source": [
    "The LogSumExp-problem with linear consraints:\n",
    "\t$$\\log(1 + \\sum\\limits_{k=1}^n \\exp(\\alpha x_k)) + \\frac{\\beta}{2} \\|\\textbf{x}\\|_2^2 \\rightarrow \\min_{\\textbf{x}\\in \\mathbb{R}^N}$$\n",
    "\t$$\\text{s.t.} (\\textbf{b}_j, \\textbf{x}) - c_j <= 0, j = 1\\dots M$$\n",
    "\t\n",
    "This problem can be converted into saddle point problem:\n",
    "\t$$\\min_{\\textbf{x}} \\max_{\\textbf{y}\\in\\mathbb{R}^M_+} S(\\textbf{x},\\textbf{y}),$$\n",
    "where $S(\\textbf{x}, \\textbf{y}) = r(\\textbf{x})+F(\\textbf{x}, \\textbf{y}) - h(\\textbf{y})$\n",
    "\t$$r(\\textbf{x}) = \\log(1 + \\sum\\limits_{k=1}^n \\exp(\\alpha x_k)) + \\frac{\\beta}{2} \\|\\textbf{x}\\|_2^2$$\n",
    "\t$$F(\\textbf{x}, \\textbf{y}) = \\sum\\limits_{j=1}^M x_j(\\textbf{b}_j, \\textbf{y}) = (\\textbf{x}, B\\textbf{y})$$\n",
    "\t$$h(\\textbf{y}) = (\\textbf{c}, \\textbf{y})$$\n",
    "\n",
    "So N is dimensional of external variable, M - internal. But we will consider the external problem as help problem."
   ]
  },
  {
   "cell_type": "code",
   "execution_count": 1,
   "metadata": {},
   "outputs": [],
   "source": [
    "import numpy as np\n",
    "from TestFunctions import LogSumExp_difalpha as LogSumExp\n",
    "from TestFunctions.TestFunctions import TestFunction\n",
    "from Solvers import GradientMethods\n",
    "from Solvers.HalvCube import Dichotomy_exact\n",
    "from Solvers.GradientMethods import FGM_internal\n",
    "from Solvers.Ellipsoids import ellipsoid\n",
    "import matplotlib.pyplot as plt\n",
    "%matplotlib notebook\n",
    "import comparison\n",
    "import imp\n",
    "\n",
    "from comparison import method_comparison, create_methods_dict"
   ]
  },
  {
   "cell_type": "code",
   "execution_count": 2,
   "metadata": {},
   "outputs": [],
   "source": [
    "def get_LSE(N = 100, M = 2, alpha = 0.001, beta = 0.5e-3, k = 1, eps = 1e-3):\n",
    "    \"\"\"\n",
    "    The function is to get class of LSE. All parameters mathes the\n",
    "    parameters above.\n",
    "    \n",
    "    N is dimensional of primal problem\n",
    "    M is number of constraints. It is also the dual dimension\n",
    "    alpha is parameter of LogSumExp problem\n",
    "    beta is coefficient of l2-regularization for primal problem\n",
    "    \n",
    "    k is parameter for to generate matrix B\n",
    "    \"\"\"\n",
    "    np.random.seed(N*M)\n",
    "    alpha_ = np.random.uniform(size = (N,), low = -alpha, high = alpha)\n",
    "    alpha = np.max(np.abs(alpha_))\n",
    "    B = []\n",
    "    for i in range(M):\n",
    "        b = np.random.uniform(low = -k, high = 0, size = (N,)) * np.sign(alpha_)\n",
    "        B.append(b)\n",
    "    B = np.array(B)\n",
    "    #B = np.random.uniform(low = -k, high = 0, size = (M, N))\n",
    "    c = np.ones((M,))\n",
    "    x_ = np.zeros((N,))\n",
    "    f_ = LogSumExp.r(alpha, beta).get_value(x_)\n",
    "    gamma = c.max()\n",
    "    y_max = f_/gamma\n",
    "    Q = [[0, y_max] for i in range(M)]\n",
    "    Q = np.array(Q)\n",
    "    size_domain = np.linalg.norm(Q[:,0]-Q[:,1])\n",
    "    solver = FGM_internal\n",
    "    Q = Q.copy()\n",
    "    beta_ = 2 * eps/ (size_domain**2)\n",
    "    #size_domain_y = alpha * np.sqrt(N)/beta\n",
    "    size_domain_y = np.sqrt(size_domain * np.linalg.norm(B, ord = 2)) / beta\n",
    "    LSE_y_external = TestFunction(r = LogSumExp.h(c, beta = beta_, size_domain = size_domain, y0 = (Q[:,0] + Q[:, 1])/2),\n",
    "                    F = LogSumExp.F_tilde(B, size_domain_x = size_domain, size_domain_y = size_domain_y),\n",
    "                    h = LogSumExp.r(alpha_, beta, size_domain_y),\n",
    "                    solver = solver, \n",
    "                    #get_start_point = lambda x: (1/beta * -x.dot(B), alpha * np.sqrt(N)/beta))\n",
    "                    get_start_point = lambda x: (np.zeros(B.shape[1]), size_domain_y))\n",
    "    solver = ellipsoid\n",
    "    Q = Q.copy()\n",
    "    LSE_ellipsoid = TestFunction(r = LogSumExp.r(alpha_, beta, size_domain_y),\n",
    "                    F = LogSumExp.F(B, size_domain),\n",
    "                    h = LogSumExp.h(c, beta = beta_, size_domain = size_domain, y0 = (Q[:,0] + Q[:, 1])/2),\n",
    "                    solver = solver, \n",
    "                    get_start_point = lambda x: ((Q[:,0] + Q[:, 1])/2, size_domain/2))\n",
    "    solver = lambda func, grad, L, mu, start_point, cond: Dichotomy_exact().Halving(func, \n",
    "                                                                                    grad, \n",
    "                                                                                    L, mu, \n",
    "                                                                                    eps, \n",
    "                                                                                    start_point,\n",
    "                                                                                    cond)\n",
    "    Q = Q.copy()\n",
    "    LSE_dichotomy = TestFunction(r = LogSumExp.r(alpha_, beta, size_domain_y),\n",
    "                F = LogSumExp.F(B, size_domain_x = size_domain_y, size_domain_y = size_domain),\n",
    "                h = LogSumExp.h(c, beta = beta_, size_domain = size_domain, y0 = (Q[:,0] + Q[:, 1])/2),\n",
    "                solver = solver, \n",
    "                get_start_point = lambda x: ((Q[:,0] + Q[:, 1])/2, size_domain/2))\n",
    "    solver = FGM_internal\n",
    "    Q = Q.copy()\n",
    "    LSE_fgm = TestFunction(r = LogSumExp.r(alpha_, beta, size_domain_y),\n",
    "                F = LogSumExp.F(B, size_domain_x = size_domain_y, size_domain_y = size_domain),\n",
    "                h = LogSumExp.h(c, beta = beta_, size_domain = size_domain, y0 = (Q[:,0] + Q[:, 1])/2),\n",
    "                solver = solver, \n",
    "                get_start_point = lambda x: ((Q[:,0] + Q[:, 1])/2, size_domain/2))\n",
    "    R = alpha * np.sqrt(N)/beta\n",
    "    return (LSE_y_external, Q), (LSE_ellipsoid, R), (LSE_dichotomy, R), (LSE_fgm, R), (alpha_, B, c, beta)"
   ]
  },
  {
   "cell_type": "code",
   "execution_count": 3,
   "metadata": {},
   "outputs": [],
   "source": [
    "def start_comparison(N = 100, M = 2, alpha = 1e-3, beta = 1e-5, k = 1e3, eps = 1e-3, time_max = 0.2, with_inverse = False):\n",
    "    LSE_res = get_LSE(N = N, M = M, alpha = alpha, beta = beta, k = k, eps = eps)\n",
    "    (LSE_y_external, Q), (LSE_ellipsoid, R), (LSE_dichotomy, R), (LSE_fgm, R), stop_cond_args = LSE_res\n",
    "    keys = {\"FGM\":\"y, x - FGM+FGM\",\n",
    "        \"Ellipsoids\": \"y, x - Ellipsoids+FGM\",\n",
    "        \"Dichotomy\": \"y, x - Dichotomy+FGM\"}\n",
    "    #keys = {\"FGM\":\"y, x - FGM+FGM\",\n",
    "    #    \"Ellipsoids\": \"y, x - Ellipsoids+FGM\"}\n",
    "    history = {}\n",
    "    f_dict = {}\n",
    "    methods = {}\n",
    "    methods = create_methods_dict(LSE_y_external, np.mean(Q, axis = 1),\n",
    "                              np.linalg.norm(Q[:,0]-Q[:,1]),\n",
    "                              Q, eps, history, time_max = time_max, stop_cond_args = stop_cond_args, keys = keys)\n",
    "    for key in methods:\n",
    "        cond = lambda y, R: LSE_y_external.L_xx * R <= 1e-3\n",
    "        f = lambda y: LSE_y_external.get_value(y, LSE_y_external.get_solution(y, cond)[0])\n",
    "        f_dict[key] = f\n",
    "    if with_inverse:\n",
    "        Q = np.vstack([np.zeros((N, )) - R * np.ones((N,)), np.zeros((N, )) + R * np.ones((N,))]).T\n",
    "        methods[\"x, y - FGM+FGM\"] = create_methods_dict(LSE_fgm, np.mean(Q, axis = 1),\n",
    "                                  np.linalg.norm(Q[:,0]-Q[:,1]),\n",
    "                                  Q, eps, history, time_max = time_max, inverse = True,  stop_cond_args = stop_cond_args, keys = {\"FGM\":\"x, y - FGM+FGM\"})[\"x, y - FGM+FGM\"]\n",
    "        cond = lambda y, R: LSE_fgm.L_xx * R <= eps\n",
    "        f = lambda y: LSE_fgm.get_value(y, LSE_fgm.get_solution(y, cond)[0])\n",
    "        f_dict[\"x, y - FGM+FGM\"] = f\n",
    "        methods[\"x, y - FGM+Ellipsoids\"] = create_methods_dict(LSE_ellipsoid, np.mean(Q, axis = 1),\n",
    "                                  np.linalg.norm(Q[:,0]-Q[:,1]),\n",
    "                                  Q, eps, history, time_max = time_max, inverse = True,  stop_cond_args = stop_cond_args, keys = {\"FGM\":\"x, y - FGM+Ellipsoids\"})[\"x, y - FGM+Ellipsoids\"]\n",
    "        cond = lambda y, R: LSE_ellipsoid.L_yy * R <= eps\n",
    "        f = lambda y: LSE_ellipsoid.get_value(y, LSE_ellipsoid.get_solution(y, cond)[0])\n",
    "        f_dict[\"x, y - FGM+Ellipsoids\"] = f\n",
    "        Q = np.vstack([np.zeros((N, )) - R * np.ones((N,)), np.zeros((N, )) + R * np.ones((N,))]).T\n",
    "        methods[\"x, y - FGM+Dichotomy\"] = create_methods_dict(LSE_dichotomy, np.mean(Q, axis = 1),\n",
    "                                  np.linalg.norm(Q[:,0]-Q[:,1]),\n",
    "                                  Q, eps, history, time_max = time_max, inverse = True, stop_cond_args = stop_cond_args, keys = {\"FGM\":\"x, y - FGM+Dichotomy\"})[\"x, y - FGM+Dichotomy\"]\n",
    "        cond = lambda y, R: LSE_dichotomy.L_xx * R <= eps\n",
    "        f = lambda y: LSE_dichotomy.get_value(y, LSE_dichotomy.get_solution(y, cond)[0])\n",
    "        f_dict[\"x, y - FGM+Dichotomy\"] = f\n",
    "    #comparison.method_comparison(methods)\n",
    "    for key in methods:\n",
    "        print(key)\n",
    "        methods[key]()\n",
    "    return history, stop_cond_args"
   ]
  },
  {
   "cell_type": "code",
   "execution_count": 4,
   "metadata": {},
   "outputs": [],
   "source": [
    "def parse_results(history, alpha_, B, c, beta, keys = [\"Ellipsoids\", \"Dichotomy\", \"FGM\"]):\n",
    "    s_key = \"\"\n",
    "    s_feas = \"\"\n",
    "    s_time = \"\"\n",
    "    s_value = \"\"\n",
    "    s_n = \"\"\n",
    "    for key in keys:\n",
    "        s_key += key + \"\\t$\"\n",
    "        if \"y, x\" in key:\n",
    "            lambda_, x = history[key][-1][0]\n",
    "        else:\n",
    "            x, lambda_ = history[key][-1][0]\n",
    "        s_feas += str((B @ x <= c).any()) + \"\\t\\t$\"\n",
    "        s_time += \"%.3f\"%(history[key][-1][1] - history[key][0][1]) + \"\\t\\t$\"\n",
    "        x_ = alpha_ * x\n",
    "        M = np.max(x_)\n",
    "        x_ = x_ - M\n",
    "        s_value+= \"%.3f\"%(M + np.log(np.exp(-M) + np.exp(x_).sum()) + beta * np.linalg.norm(x)**2) + \"\\t\\t$\"\n",
    "        s_n += \"%d\"%(len(history[key])) + \"\\t\\t$\"\n",
    "    print(s_key)\n",
    "    print(s_feas)\n",
    "    print(s_time)\n",
    "    print(s_value)\n",
    "    print(s_n)"
   ]
  },
  {
   "cell_type": "code",
   "execution_count": 5,
   "metadata": {},
   "outputs": [],
   "source": [
    "time_max = 60"
   ]
  },
  {
   "cell_type": "markdown",
   "metadata": {},
   "source": [
    "## Inverse Order $ \\max_x \\min_y$"
   ]
  },
  {
   "cell_type": "code",
   "execution_count": 6,
   "metadata": {},
   "outputs": [],
   "source": [
    "M = 2\n",
    "N = 100"
   ]
  },
  {
   "cell_type": "code",
   "execution_count": 7,
   "metadata": {
    "scrolled": false
   },
   "outputs": [
    {
     "name": "stdout",
     "output_type": "stream",
     "text": [
      "y, x - FGM+FGM\n",
      "y, x - Ellipsoids+FGM\n"
     ]
    },
    {
     "name": "stderr",
     "output_type": "stream",
     "text": [
      "/home/elias/Desktop/PROJECTS/SPP/SPP/Solvers/GradientMethods.py:40: RuntimeWarning: divide by zero encountered in double_scalars\n",
      "  est = 2 * min(4 * L * R/N**2, L * R * np.exp(-N/2 * np.sqrt(mu/L)))\n"
     ]
    },
    {
     "name": "stdout",
     "output_type": "stream",
     "text": [
      "y, x - Dichotomy+FGM\n",
      "x, y - FGM+FGM\n",
      "x, y - FGM+Ellipsoids\n",
      "x, y - FGM+Dichotomy\n"
     ]
    }
   ],
   "source": [
    "eps = 1e-3\n",
    "history, stop_cond_args = start_comparison(N = N, M = M, eps = eps, time_max = time_max, with_inverse = True)\n",
    "alpha_, B, c, beta = stop_cond_args"
   ]
  },
  {
   "cell_type": "code",
   "execution_count": 8,
   "metadata": {},
   "outputs": [
    {
     "name": "stdout",
     "output_type": "stream",
     "text": [
      "y, x - FGM+FGM\t$y, x - Ellipsoids+FGM\t$y, x - Dichotomy+FGM\t$x, y - FGM+FGM\t$x, y - FGM+Ellipsoids\t$x, y - FGM+Dichotomy\t$\n",
      "False\t\t$True\t\t$True\t\t$False\t\t$False\t\t$False\t\t$\n",
      "0.017\t\t$0.258\t\t$0.141\t\t$60.001\t\t$60.008\t\t$60.004\t\t$\n",
      "4.615\t\t$4.616\t\t$4.616\t\t$4.615\t\t$4.615\t\t$4.615\t\t$\n",
      "4\t\t$123\t\t$56\t\t$50677\t\t$6618\t\t$4690\t\t$\n"
     ]
    }
   ],
   "source": [
    "parse_results(history, alpha_, B, c, beta, keys = history.keys())"
   ]
  },
  {
   "cell_type": "code",
   "execution_count": 9,
   "metadata": {
    "scrolled": false
   },
   "outputs": [
    {
     "name": "stdout",
     "output_type": "stream",
     "text": [
      "y, x - FGM+FGM\n",
      "y, x - Ellipsoids+FGM\n",
      "y, x - Dichotomy+FGM\n",
      "x, y - FGM+FGM\n",
      "x, y - FGM+Ellipsoids\n"
     ]
    },
    {
     "name": "stderr",
     "output_type": "stream",
     "text": [
      "/home/elias/Desktop/PROJECTS/SPP/SPP/Solvers/Ellipsoids.py:81: RuntimeWarning: divide by zero encountered in true_divide\n",
      "  _df = _df / (np.sqrt(abs(_df@H@_df)))\n",
      "/home/elias/Desktop/PROJECTS/SPP/SPP/Solvers/Ellipsoids.py:82: RuntimeWarning: invalid value encountered in matmul\n",
      "  x = x - 1/(n+1) * H @ _df\n",
      "/home/elias/Desktop/PROJECTS/SPP/SPP/Solvers/Ellipsoids.py:83: RuntimeWarning: invalid value encountered in matmul\n",
      "  H = n**2/(n**2 - 1)*(H - (2 / (n + 1)) * (H @ np.outer(_df, _df) @ H))\n"
     ]
    },
    {
     "name": "stdout",
     "output_type": "stream",
     "text": [
      "x, y - FGM+Dichotomy\n"
     ]
    }
   ],
   "source": [
    "eps = 1e-6\n",
    "history, stop_cond_args = start_comparison(N = N, M = M, eps = eps, time_max = time_max, with_inverse = True)\n",
    "alpha_, B, c, beta = stop_cond_args"
   ]
  },
  {
   "cell_type": "code",
   "execution_count": 10,
   "metadata": {
    "scrolled": true
   },
   "outputs": [
    {
     "name": "stdout",
     "output_type": "stream",
     "text": [
      "y, x - FGM+FGM\t$y, x - Ellipsoids+FGM\t$y, x - Dichotomy+FGM\t$x, y - FGM+FGM\t$x, y - FGM+Ellipsoids\t$x, y - FGM+Dichotomy\t$\n",
      "False\t\t$True\t\t$True\t\t$False\t\t$True\t\t$True\t\t$\n",
      "3.295\t\t$0.428\t\t$0.192\t\t$60.001\t\t$60.007\t\t$60.008\t\t$\n",
      "4.615\t\t$4.615\t\t$4.615\t\t$4.615\t\t$4.615\t\t$4.615\t\t$\n",
      "531\t\t$139\t\t$60\t\t$44265\t\t$6061\t\t$5493\t\t$\n"
     ]
    }
   ],
   "source": [
    "parse_results(history, alpha_, B, c, beta, keys = history.keys())"
   ]
  },
  {
   "cell_type": "markdown",
   "metadata": {},
   "source": [
    "## M= 2"
   ]
  },
  {
   "cell_type": "code",
   "execution_count": 11,
   "metadata": {},
   "outputs": [],
   "source": [
    "M = 2"
   ]
  },
  {
   "cell_type": "markdown",
   "metadata": {},
   "source": [
    "### N = 100"
   ]
  },
  {
   "cell_type": "code",
   "execution_count": 12,
   "metadata": {},
   "outputs": [],
   "source": [
    "N = 100"
   ]
  },
  {
   "cell_type": "code",
   "execution_count": 13,
   "metadata": {
    "scrolled": false
   },
   "outputs": [
    {
     "name": "stdout",
     "output_type": "stream",
     "text": [
      "y, x - FGM+FGM\n",
      "y, x - Ellipsoids+FGM\n",
      "y, x - Dichotomy+FGM\n"
     ]
    }
   ],
   "source": [
    "eps = 1e-3\n",
    "history, stop_cond_args = start_comparison(N = N, M = M, eps = eps, time_max = time_max)\n",
    "alpha_, B, c, beta = stop_cond_args"
   ]
  },
  {
   "cell_type": "code",
   "execution_count": 14,
   "metadata": {},
   "outputs": [
    {
     "name": "stdout",
     "output_type": "stream",
     "text": [
      "y, x - FGM+FGM\t$y, x - Ellipsoids+FGM\t$y, x - Dichotomy+FGM\t$\n",
      "False\t\t$True\t\t$True\t\t$\n",
      "0.016\t\t$0.270\t\t$0.136\t\t$\n",
      "4.615\t\t$4.616\t\t$4.616\t\t$\n",
      "4\t\t$123\t\t$56\t\t$\n"
     ]
    }
   ],
   "source": [
    "parse_results(history, alpha_, B, c, beta, keys = history.keys())"
   ]
  },
  {
   "cell_type": "code",
   "execution_count": 15,
   "metadata": {
    "scrolled": false
   },
   "outputs": [
    {
     "name": "stdout",
     "output_type": "stream",
     "text": [
      "y, x - FGM+FGM\n",
      "y, x - Ellipsoids+FGM\n",
      "y, x - Dichotomy+FGM\n"
     ]
    }
   ],
   "source": [
    "eps = 1e-6\n",
    "history, stop_cond_args = start_comparison(N = N, M = M, eps = eps, time_max = time_max)\n",
    "alpha_, B, c, beta = stop_cond_args"
   ]
  },
  {
   "cell_type": "code",
   "execution_count": 16,
   "metadata": {
    "scrolled": true
   },
   "outputs": [
    {
     "name": "stdout",
     "output_type": "stream",
     "text": [
      "y, x - FGM+FGM\t$y, x - Ellipsoids+FGM\t$y, x - Dichotomy+FGM\t$\n",
      "False\t\t$True\t\t$True\t\t$\n",
      "3.318\t\t$0.442\t\t$0.195\t\t$\n",
      "4.615\t\t$4.615\t\t$4.615\t\t$\n",
      "531\t\t$139\t\t$60\t\t$\n"
     ]
    }
   ],
   "source": [
    "parse_results(history, alpha_, B, c, beta, keys = history.keys())"
   ]
  },
  {
   "cell_type": "code",
   "execution_count": 17,
   "metadata": {
    "scrolled": false
   },
   "outputs": [
    {
     "name": "stdout",
     "output_type": "stream",
     "text": [
      "y, x - FGM+FGM\n",
      "y, x - Ellipsoids+FGM\n",
      "y, x - Dichotomy+FGM\n"
     ]
    }
   ],
   "source": [
    "eps = 1e-9\n",
    "history, stop_cond_args = start_comparison(N = N, M = M, eps = eps, time_max = time_max)\n",
    "alpha_, B, c, beta = stop_cond_args"
   ]
  },
  {
   "cell_type": "code",
   "execution_count": 18,
   "metadata": {},
   "outputs": [
    {
     "name": "stdout",
     "output_type": "stream",
     "text": [
      "y, x - FGM+FGM\t$y, x - Ellipsoids+FGM\t$y, x - Dichotomy+FGM\t$\n",
      "False\t\t$True\t\t$True\t\t$\n",
      "60.004\t\t$0.794\t\t$0.675\t\t$\n",
      "4.615\t\t$4.615\t\t$4.615\t\t$\n",
      "7895\t\t$200\t\t$74\t\t$\n"
     ]
    }
   ],
   "source": [
    "parse_results(history, alpha_, B, c, beta, keys = history.keys())"
   ]
  },
  {
   "cell_type": "markdown",
   "metadata": {},
   "source": [
    "### N = 1000"
   ]
  },
  {
   "cell_type": "code",
   "execution_count": 19,
   "metadata": {},
   "outputs": [],
   "source": [
    "N = 1000"
   ]
  },
  {
   "cell_type": "code",
   "execution_count": 20,
   "metadata": {
    "scrolled": false
   },
   "outputs": [
    {
     "name": "stdout",
     "output_type": "stream",
     "text": [
      "y, x - FGM+FGM\n",
      "y, x - Ellipsoids+FGM\n",
      "y, x - Dichotomy+FGM\n"
     ]
    }
   ],
   "source": [
    "eps = 1e-3\n",
    "history, stop_cond_args = start_comparison(N = N, M = M, eps = eps, time_max = time_max)\n",
    "alpha_, B, c, beta = stop_cond_args"
   ]
  },
  {
   "cell_type": "code",
   "execution_count": 21,
   "metadata": {},
   "outputs": [
    {
     "name": "stdout",
     "output_type": "stream",
     "text": [
      "y, x - FGM+FGM\t$y, x - Ellipsoids+FGM\t$y, x - Dichotomy+FGM\t$\n",
      "False\t\t$True\t\t$True\t\t$\n",
      "0.028\t\t$0.519\t\t$0.262\t\t$\n",
      "6.909\t\t$6.909\t\t$6.909\t\t$\n",
      "4\t\t$131\t\t$62\t\t$\n"
     ]
    }
   ],
   "source": [
    "parse_results(history, alpha_, B, c, beta, keys = history.keys())"
   ]
  },
  {
   "cell_type": "code",
   "execution_count": 22,
   "metadata": {
    "scrolled": false
   },
   "outputs": [
    {
     "name": "stdout",
     "output_type": "stream",
     "text": [
      "y, x - FGM+FGM\n",
      "y, x - Ellipsoids+FGM\n",
      "y, x - Dichotomy+FGM\n"
     ]
    }
   ],
   "source": [
    "eps = 1e-6\n",
    "history, stop_cond_args = start_comparison(N = N, M = M, eps = eps, time_max = time_max)\n",
    "alpha_, B, c, beta = stop_cond_args"
   ]
  },
  {
   "cell_type": "code",
   "execution_count": 23,
   "metadata": {
    "scrolled": true
   },
   "outputs": [
    {
     "name": "stdout",
     "output_type": "stream",
     "text": [
      "y, x - FGM+FGM\t$y, x - Ellipsoids+FGM\t$y, x - Dichotomy+FGM\t$\n",
      "False\t\t$True\t\t$True\t\t$\n",
      "0.457\t\t$0.841\t\t$0.437\t\t$\n",
      "6.909\t\t$6.909\t\t$6.909\t\t$\n",
      "40\t\t$147\t\t$68\t\t$\n"
     ]
    }
   ],
   "source": [
    "parse_results(history, alpha_, B, c, beta, keys = history.keys())"
   ]
  },
  {
   "cell_type": "code",
   "execution_count": 24,
   "metadata": {
    "scrolled": false
   },
   "outputs": [
    {
     "name": "stdout",
     "output_type": "stream",
     "text": [
      "y, x - FGM+FGM\n",
      "y, x - Ellipsoids+FGM\n",
      "y, x - Dichotomy+FGM\n"
     ]
    }
   ],
   "source": [
    "eps = 1e-9\n",
    "history, stop_cond_args = start_comparison(N = N, M = M, eps = eps, time_max = time_max)\n",
    "alpha_, B, c, beta = stop_cond_args"
   ]
  },
  {
   "cell_type": "code",
   "execution_count": 25,
   "metadata": {},
   "outputs": [
    {
     "name": "stdout",
     "output_type": "stream",
     "text": [
      "y, x - FGM+FGM\t$y, x - Ellipsoids+FGM\t$y, x - Dichotomy+FGM\t$\n",
      "False\t\t$True\t\t$True\t\t$\n",
      "60.010\t\t$1.462\t\t$1.143\t\t$\n",
      "6.909\t\t$6.909\t\t$6.909\t\t$\n",
      "4198\t\t$195\t\t$84\t\t$\n"
     ]
    }
   ],
   "source": [
    "parse_results(history, alpha_, B, c, beta, keys = history.keys())"
   ]
  },
  {
   "cell_type": "markdown",
   "metadata": {},
   "source": [
    "### N = 10000"
   ]
  },
  {
   "cell_type": "code",
   "execution_count": 26,
   "metadata": {},
   "outputs": [],
   "source": [
    "N = 10000"
   ]
  },
  {
   "cell_type": "code",
   "execution_count": 27,
   "metadata": {
    "scrolled": false
   },
   "outputs": [
    {
     "name": "stdout",
     "output_type": "stream",
     "text": [
      "y, x - FGM+FGM\n",
      "y, x - Ellipsoids+FGM\n",
      "y, x - Dichotomy+FGM\n"
     ]
    }
   ],
   "source": [
    "eps = 1e-3\n",
    "history, stop_cond_args = start_comparison(N = N, M = M, eps = eps, time_max = time_max)\n",
    "alpha_, B, c, beta = stop_cond_args"
   ]
  },
  {
   "cell_type": "code",
   "execution_count": 28,
   "metadata": {},
   "outputs": [
    {
     "name": "stdout",
     "output_type": "stream",
     "text": [
      "y, x - FGM+FGM\t$y, x - Ellipsoids+FGM\t$y, x - Dichotomy+FGM\t$\n",
      "False\t\t$True\t\t$True\t\t$\n",
      "0.362\t\t$6.976\t\t$3.833\t\t$\n",
      "9.210\t\t$9.211\t\t$9.211\t\t$\n",
      "4\t\t$131\t\t$66\t\t$\n"
     ]
    }
   ],
   "source": [
    "parse_results(history, alpha_, B, c, beta, keys = history.keys())"
   ]
  },
  {
   "cell_type": "code",
   "execution_count": 29,
   "metadata": {
    "scrolled": false
   },
   "outputs": [
    {
     "name": "stdout",
     "output_type": "stream",
     "text": [
      "y, x - FGM+FGM\n",
      "y, x - Ellipsoids+FGM\n",
      "y, x - Dichotomy+FGM\n"
     ]
    }
   ],
   "source": [
    "eps = 1e-6\n",
    "history, stop_cond_args = start_comparison(N = N, M = M, eps = eps, time_max = time_max)\n",
    "alpha_, B, c, beta = stop_cond_args"
   ]
  },
  {
   "cell_type": "code",
   "execution_count": 30,
   "metadata": {
    "scrolled": true
   },
   "outputs": [
    {
     "name": "stdout",
     "output_type": "stream",
     "text": [
      "y, x - FGM+FGM\t$y, x - Ellipsoids+FGM\t$y, x - Dichotomy+FGM\t$\n",
      "False\t\t$False\t\t$True\t\t$\n",
      "0.568\t\t$15.322\t\t$5.840\t\t$\n",
      "9.210\t\t$9.210\t\t$9.210\t\t$\n",
      "4\t\t$171\t\t$74\t\t$\n"
     ]
    }
   ],
   "source": [
    "parse_results(history, alpha_, B, c, beta, keys = history.keys())"
   ]
  },
  {
   "cell_type": "code",
   "execution_count": 31,
   "metadata": {
    "scrolled": false
   },
   "outputs": [
    {
     "name": "stdout",
     "output_type": "stream",
     "text": [
      "y, x - FGM+FGM\n",
      "y, x - Ellipsoids+FGM\n",
      "y, x - Dichotomy+FGM\n"
     ]
    }
   ],
   "source": [
    "eps = 1e-9\n",
    "history, stop_cond_args = start_comparison(N = N, M = M, eps = eps, time_max = time_max)\n",
    "alpha_, B, c, beta = stop_cond_args"
   ]
  },
  {
   "cell_type": "code",
   "execution_count": 32,
   "metadata": {},
   "outputs": [
    {
     "name": "stdout",
     "output_type": "stream",
     "text": [
      "y, x - FGM+FGM\t$y, x - Ellipsoids+FGM\t$y, x - Dichotomy+FGM\t$\n",
      "False\t\t$True\t\t$True\t\t$\n",
      "60.031\t\t$24.047\t\t$15.160\t\t$\n",
      "9.210\t\t$9.210\t\t$9.210\t\t$\n",
      "258\t\t$207\t\t$87\t\t$\n"
     ]
    }
   ],
   "source": [
    "parse_results(history, alpha_, B, c, beta, keys = history.keys())"
   ]
  },
  {
   "cell_type": "markdown",
   "metadata": {},
   "source": [
    "## M= 3"
   ]
  },
  {
   "cell_type": "code",
   "execution_count": 33,
   "metadata": {},
   "outputs": [],
   "source": [
    "M = 3"
   ]
  },
  {
   "cell_type": "markdown",
   "metadata": {},
   "source": [
    "### N = 100"
   ]
  },
  {
   "cell_type": "code",
   "execution_count": 34,
   "metadata": {},
   "outputs": [],
   "source": [
    "N = 100"
   ]
  },
  {
   "cell_type": "code",
   "execution_count": 35,
   "metadata": {
    "scrolled": false
   },
   "outputs": [
    {
     "name": "stdout",
     "output_type": "stream",
     "text": [
      "y, x - FGM+FGM\n",
      "y, x - Ellipsoids+FGM\n",
      "y, x - Dichotomy+FGM\n"
     ]
    }
   ],
   "source": [
    "eps = 1e-3\n",
    "history, stop_cond_args = start_comparison(N = N, M = M, eps = eps, time_max = time_max)\n",
    "alpha_, B, c, beta = stop_cond_args"
   ]
  },
  {
   "cell_type": "code",
   "execution_count": 36,
   "metadata": {},
   "outputs": [
    {
     "name": "stdout",
     "output_type": "stream",
     "text": [
      "y, x - FGM+FGM\t$y, x - Ellipsoids+FGM\t$y, x - Dichotomy+FGM\t$\n",
      "False\t\t$True\t\t$True\t\t$\n",
      "0.049\t\t$0.626\t\t$0.919\t\t$\n",
      "4.615\t\t$4.615\t\t$4.616\t\t$\n",
      "4\t\t$255\t\t$83\t\t$\n"
     ]
    }
   ],
   "source": [
    "parse_results(history, alpha_, B, c, beta, keys = history.keys())"
   ]
  },
  {
   "cell_type": "code",
   "execution_count": 37,
   "metadata": {
    "scrolled": false
   },
   "outputs": [
    {
     "name": "stdout",
     "output_type": "stream",
     "text": [
      "y, x - FGM+FGM\n",
      "y, x - Ellipsoids+FGM\n",
      "y, x - Dichotomy+FGM\n"
     ]
    }
   ],
   "source": [
    "eps = 1e-6\n",
    "history, stop_cond_args = start_comparison(N = N, M = M, eps = eps, time_max = time_max)\n",
    "alpha_, B, c, beta = stop_cond_args"
   ]
  },
  {
   "cell_type": "code",
   "execution_count": 38,
   "metadata": {
    "scrolled": true
   },
   "outputs": [
    {
     "name": "stdout",
     "output_type": "stream",
     "text": [
      "y, x - FGM+FGM\t$y, x - Ellipsoids+FGM\t$y, x - Dichotomy+FGM\t$\n",
      "False\t\t$True\t\t$True\t\t$\n",
      "2.413\t\t$1.065\t\t$60.008\t\t$\n",
      "4.615\t\t$4.615\t\t$4.615\t\t$\n",
      "385\t\t$344\t\t$89\t\t$\n"
     ]
    }
   ],
   "source": [
    "parse_results(history, alpha_, B, c, beta, keys = history.keys())"
   ]
  },
  {
   "cell_type": "code",
   "execution_count": 39,
   "metadata": {
    "scrolled": false
   },
   "outputs": [
    {
     "name": "stdout",
     "output_type": "stream",
     "text": [
      "y, x - FGM+FGM\n",
      "y, x - Ellipsoids+FGM\n",
      "y, x - Dichotomy+FGM\n"
     ]
    }
   ],
   "source": [
    "eps = 1e-9\n",
    "history, stop_cond_args = start_comparison(N = N, M = M, eps = eps, time_max = time_max)\n",
    "alpha_, B, c, beta = stop_cond_args"
   ]
  },
  {
   "cell_type": "code",
   "execution_count": 40,
   "metadata": {},
   "outputs": [
    {
     "name": "stdout",
     "output_type": "stream",
     "text": [
      "y, x - FGM+FGM\t$y, x - Ellipsoids+FGM\t$y, x - Dichotomy+FGM\t$\n",
      "False\t\t$True\t\t$True\t\t$\n",
      "60.004\t\t$1.927\t\t$60.027\t\t$\n",
      "4.615\t\t$4.615\t\t$4.615\t\t$\n",
      "7789\t\t$470\t\t$89\t\t$\n"
     ]
    }
   ],
   "source": [
    "parse_results(history, alpha_, B, c, beta, keys = history.keys())"
   ]
  },
  {
   "cell_type": "markdown",
   "metadata": {},
   "source": [
    "### N = 1000"
   ]
  },
  {
   "cell_type": "code",
   "execution_count": 41,
   "metadata": {},
   "outputs": [],
   "source": [
    "N = 1000"
   ]
  },
  {
   "cell_type": "code",
   "execution_count": 42,
   "metadata": {
    "scrolled": false
   },
   "outputs": [
    {
     "name": "stdout",
     "output_type": "stream",
     "text": [
      "y, x - FGM+FGM\n",
      "y, x - Ellipsoids+FGM\n",
      "y, x - Dichotomy+FGM\n"
     ]
    }
   ],
   "source": [
    "eps = 1e-3\n",
    "history, stop_cond_args = start_comparison(N = N, M = M, eps = eps, time_max = time_max)\n",
    "alpha_, B, c, beta = stop_cond_args"
   ]
  },
  {
   "cell_type": "code",
   "execution_count": 43,
   "metadata": {},
   "outputs": [
    {
     "name": "stdout",
     "output_type": "stream",
     "text": [
      "y, x - FGM+FGM\t$y, x - Ellipsoids+FGM\t$y, x - Dichotomy+FGM\t$\n",
      "False\t\t$True\t\t$True\t\t$\n",
      "0.029\t\t$1.311\t\t$1.589\t\t$\n",
      "6.909\t\t$6.909\t\t$6.909\t\t$\n",
      "4\t\t$326\t\t$92\t\t$\n"
     ]
    }
   ],
   "source": [
    "parse_results(history, alpha_, B, c, beta, keys = history.keys())"
   ]
  },
  {
   "cell_type": "code",
   "execution_count": 44,
   "metadata": {
    "scrolled": false
   },
   "outputs": [
    {
     "name": "stdout",
     "output_type": "stream",
     "text": [
      "y, x - FGM+FGM\n",
      "y, x - Ellipsoids+FGM\n",
      "y, x - Dichotomy+FGM\n"
     ]
    }
   ],
   "source": [
    "eps = 1e-6\n",
    "history, stop_cond_args = start_comparison(N = N, M = M, eps = eps, time_max = time_max)\n",
    "alpha_, B, c, beta = stop_cond_args"
   ]
  },
  {
   "cell_type": "code",
   "execution_count": 45,
   "metadata": {
    "scrolled": true
   },
   "outputs": [
    {
     "name": "stdout",
     "output_type": "stream",
     "text": [
      "y, x - FGM+FGM\t$y, x - Ellipsoids+FGM\t$y, x - Dichotomy+FGM\t$\n",
      "False\t\t$False\t\t$True\t\t$\n",
      "0.500\t\t$2.006\t\t$60.030\t\t$\n",
      "6.909\t\t$6.909\t\t$6.909\t\t$\n",
      "43\t\t$347\t\t$98\t\t$\n"
     ]
    }
   ],
   "source": [
    "parse_results(history, alpha_, B, c, beta, keys = history.keys())"
   ]
  },
  {
   "cell_type": "code",
   "execution_count": 46,
   "metadata": {
    "scrolled": false
   },
   "outputs": [
    {
     "name": "stdout",
     "output_type": "stream",
     "text": [
      "y, x - FGM+FGM\n",
      "y, x - Ellipsoids+FGM\n",
      "y, x - Dichotomy+FGM\n"
     ]
    }
   ],
   "source": [
    "eps = 1e-9\n",
    "history, stop_cond_args = start_comparison(N = N, M = M, eps = eps, time_max = time_max)\n",
    "alpha_, B, c, beta = stop_cond_args"
   ]
  },
  {
   "cell_type": "code",
   "execution_count": 47,
   "metadata": {},
   "outputs": [
    {
     "name": "stdout",
     "output_type": "stream",
     "text": [
      "y, x - FGM+FGM\t$y, x - Ellipsoids+FGM\t$y, x - Dichotomy+FGM\t$\n",
      "False\t\t$True\t\t$True\t\t$\n",
      "60.011\t\t$3.633\t\t$60.050\t\t$\n",
      "6.909\t\t$6.909\t\t$6.909\t\t$\n",
      "4139\t\t$482\t\t$98\t\t$\n"
     ]
    }
   ],
   "source": [
    "parse_results(history, alpha_, B, c, beta, keys = history.keys())"
   ]
  },
  {
   "cell_type": "markdown",
   "metadata": {},
   "source": [
    "### N = 10000"
   ]
  },
  {
   "cell_type": "code",
   "execution_count": 48,
   "metadata": {},
   "outputs": [],
   "source": [
    "N = 10000"
   ]
  },
  {
   "cell_type": "code",
   "execution_count": 49,
   "metadata": {
    "scrolled": false
   },
   "outputs": [
    {
     "name": "stdout",
     "output_type": "stream",
     "text": [
      "y, x - FGM+FGM\n",
      "y, x - Ellipsoids+FGM\n",
      "y, x - Dichotomy+FGM\n"
     ]
    }
   ],
   "source": [
    "eps = 1e-3\n",
    "history, stop_cond_args = start_comparison(N = N, M = M, eps = eps, time_max = time_max)\n",
    "alpha_, B, c, beta = stop_cond_args"
   ]
  },
  {
   "cell_type": "code",
   "execution_count": 50,
   "metadata": {},
   "outputs": [
    {
     "name": "stdout",
     "output_type": "stream",
     "text": [
      "y, x - FGM+FGM\t$y, x - Ellipsoids+FGM\t$y, x - Dichotomy+FGM\t$\n",
      "False\t\t$True\t\t$True\t\t$\n",
      "0.350\t\t$20.656\t\t$20.202\t\t$\n",
      "9.210\t\t$9.211\t\t$9.211\t\t$\n",
      "4\t\t$342\t\t$98\t\t$\n"
     ]
    }
   ],
   "source": [
    "parse_results(history, alpha_, B, c, beta, keys = history.keys())"
   ]
  },
  {
   "cell_type": "code",
   "execution_count": 51,
   "metadata": {
    "scrolled": false
   },
   "outputs": [
    {
     "name": "stdout",
     "output_type": "stream",
     "text": [
      "y, x - FGM+FGM\n",
      "y, x - Ellipsoids+FGM\n",
      "y, x - Dichotomy+FGM\n"
     ]
    }
   ],
   "source": [
    "eps = 1e-6\n",
    "history, stop_cond_args = start_comparison(N = N, M = M, eps = eps, time_max = time_max)\n",
    "alpha_, B, c, beta = stop_cond_args"
   ]
  },
  {
   "cell_type": "code",
   "execution_count": 52,
   "metadata": {
    "scrolled": true
   },
   "outputs": [
    {
     "name": "stdout",
     "output_type": "stream",
     "text": [
      "y, x - FGM+FGM\t$y, x - Ellipsoids+FGM\t$y, x - Dichotomy+FGM\t$\n",
      "False\t\t$False\t\t$True\t\t$\n",
      "0.611\t\t$37.072\t\t$60.325\t\t$\n",
      "9.210\t\t$9.210\t\t$9.210\t\t$\n",
      "4\t\t$398\t\t$110\t\t$\n"
     ]
    }
   ],
   "source": [
    "parse_results(history, alpha_, B, c, beta, keys = history.keys())"
   ]
  },
  {
   "cell_type": "code",
   "execution_count": 53,
   "metadata": {
    "scrolled": false
   },
   "outputs": [
    {
     "name": "stdout",
     "output_type": "stream",
     "text": [
      "y, x - FGM+FGM\n",
      "y, x - Ellipsoids+FGM\n",
      "y, x - Dichotomy+FGM\n"
     ]
    }
   ],
   "source": [
    "eps = 1e-9\n",
    "history, stop_cond_args = start_comparison(N = N, M = M, eps = eps, time_max = time_max)\n",
    "alpha_, B, c, beta = stop_cond_args"
   ]
  },
  {
   "cell_type": "code",
   "execution_count": 54,
   "metadata": {},
   "outputs": [
    {
     "name": "stdout",
     "output_type": "stream",
     "text": [
      "y, x - FGM+FGM\t$y, x - Ellipsoids+FGM\t$y, x - Dichotomy+FGM\t$\n",
      "False\t\t$True\t\t$True\t\t$\n",
      "60.222\t\t$57.583\t\t$60.274\t\t$\n",
      "9.210\t\t$9.210\t\t$9.210\t\t$\n",
      "260\t\t$485\t\t$110\t\t$\n"
     ]
    }
   ],
   "source": [
    "parse_results(history, alpha_, B, c, beta, keys = history.keys())"
   ]
  },
  {
   "cell_type": "markdown",
   "metadata": {},
   "source": [
    "## M= 4"
   ]
  },
  {
   "cell_type": "code",
   "execution_count": 55,
   "metadata": {},
   "outputs": [],
   "source": [
    "M = 4"
   ]
  },
  {
   "cell_type": "markdown",
   "metadata": {},
   "source": [
    "### N = 100"
   ]
  },
  {
   "cell_type": "code",
   "execution_count": 56,
   "metadata": {},
   "outputs": [],
   "source": [
    "N = 100"
   ]
  },
  {
   "cell_type": "code",
   "execution_count": 57,
   "metadata": {
    "scrolled": false
   },
   "outputs": [
    {
     "name": "stdout",
     "output_type": "stream",
     "text": [
      "y, x - FGM+FGM\n",
      "y, x - Ellipsoids+FGM\n",
      "y, x - Dichotomy+FGM\n"
     ]
    }
   ],
   "source": [
    "eps = 1e-3\n",
    "history, stop_cond_args = start_comparison(N = N, M = M, eps = eps, time_max = time_max)\n",
    "alpha_, B, c, beta = stop_cond_args"
   ]
  },
  {
   "cell_type": "code",
   "execution_count": 58,
   "metadata": {},
   "outputs": [
    {
     "name": "stdout",
     "output_type": "stream",
     "text": [
      "y, x - FGM+FGM\t$y, x - Ellipsoids+FGM\t$y, x - Dichotomy+FGM\t$\n",
      "False\t\t$True\t\t$True\t\t$\n",
      "0.051\t\t$1.138\t\t$7.074\t\t$\n",
      "4.615\t\t$4.615\t\t$4.616\t\t$\n",
      "4\t\t$478\t\t$110\t\t$\n"
     ]
    }
   ],
   "source": [
    "parse_results(history, alpha_, B, c, beta, keys = history.keys())"
   ]
  },
  {
   "cell_type": "code",
   "execution_count": 59,
   "metadata": {
    "scrolled": false
   },
   "outputs": [
    {
     "name": "stdout",
     "output_type": "stream",
     "text": [
      "y, x - FGM+FGM\n",
      "y, x - Ellipsoids+FGM\n",
      "y, x - Dichotomy+FGM\n"
     ]
    }
   ],
   "source": [
    "eps = 1e-6\n",
    "history, stop_cond_args = start_comparison(N = N, M = M, eps = eps, time_max = time_max)\n",
    "alpha_, B, c, beta = stop_cond_args"
   ]
  },
  {
   "cell_type": "code",
   "execution_count": 60,
   "metadata": {
    "scrolled": true
   },
   "outputs": [
    {
     "name": "stdout",
     "output_type": "stream",
     "text": [
      "y, x - FGM+FGM\t$y, x - Ellipsoids+FGM\t$y, x - Dichotomy+FGM\t$\n",
      "False\t\t$True\t\t$True\t\t$\n",
      "3.160\t\t$1.931\t\t$60.022\t\t$\n",
      "4.615\t\t$4.615\t\t$4.615\t\t$\n",
      "495\t\t$615\t\t$114\t\t$\n"
     ]
    }
   ],
   "source": [
    "parse_results(history, alpha_, B, c, beta, keys = history.keys())"
   ]
  },
  {
   "cell_type": "code",
   "execution_count": 61,
   "metadata": {
    "scrolled": false
   },
   "outputs": [
    {
     "name": "stdout",
     "output_type": "stream",
     "text": [
      "y, x - FGM+FGM\n",
      "y, x - Ellipsoids+FGM\n",
      "y, x - Dichotomy+FGM\n"
     ]
    }
   ],
   "source": [
    "eps = 1e-9\n",
    "history, stop_cond_args = start_comparison(N = N, M = M, eps = eps, time_max = time_max)\n",
    "alpha_, B, c, beta = stop_cond_args"
   ]
  },
  {
   "cell_type": "code",
   "execution_count": 62,
   "metadata": {},
   "outputs": [
    {
     "name": "stdout",
     "output_type": "stream",
     "text": [
      "y, x - FGM+FGM\t$y, x - Ellipsoids+FGM\t$y, x - Dichotomy+FGM\t$\n",
      "False\t\t$False\t\t$True\t\t$\n",
      "60.006\t\t$3.494\t\t$60.019\t\t$\n",
      "4.615\t\t$4.615\t\t$4.615\t\t$\n",
      "7791\t\t$865\t\t$114\t\t$\n"
     ]
    }
   ],
   "source": [
    "parse_results(history, alpha_, B, c, beta, keys = history.keys())"
   ]
  },
  {
   "cell_type": "markdown",
   "metadata": {},
   "source": [
    "### N = 1000"
   ]
  },
  {
   "cell_type": "code",
   "execution_count": 63,
   "metadata": {},
   "outputs": [],
   "source": [
    "N = 1000"
   ]
  },
  {
   "cell_type": "code",
   "execution_count": 64,
   "metadata": {
    "scrolled": false
   },
   "outputs": [
    {
     "name": "stdout",
     "output_type": "stream",
     "text": [
      "y, x - FGM+FGM\n",
      "y, x - Ellipsoids+FGM\n",
      "y, x - Dichotomy+FGM\n"
     ]
    }
   ],
   "source": [
    "eps = 1e-3\n",
    "history, stop_cond_args = start_comparison(N = N, M = M, eps = eps, time_max = time_max)\n",
    "alpha_, B, c, beta = stop_cond_args"
   ]
  },
  {
   "cell_type": "code",
   "execution_count": 65,
   "metadata": {},
   "outputs": [
    {
     "name": "stdout",
     "output_type": "stream",
     "text": [
      "y, x - FGM+FGM\t$y, x - Ellipsoids+FGM\t$y, x - Dichotomy+FGM\t$\n",
      "False\t\t$True\t\t$True\t\t$\n",
      "0.029\t\t$2.237\t\t$12.276\t\t$\n",
      "6.909\t\t$6.909\t\t$6.909\t\t$\n",
      "4\t\t$541\t\t$122\t\t$\n"
     ]
    }
   ],
   "source": [
    "parse_results(history, alpha_, B, c, beta, keys = history.keys())"
   ]
  },
  {
   "cell_type": "code",
   "execution_count": 66,
   "metadata": {
    "scrolled": false
   },
   "outputs": [
    {
     "name": "stdout",
     "output_type": "stream",
     "text": [
      "y, x - FGM+FGM\n",
      "y, x - Ellipsoids+FGM\n",
      "y, x - Dichotomy+FGM\n"
     ]
    }
   ],
   "source": [
    "eps = 1e-6\n",
    "history, stop_cond_args = start_comparison(N = N, M = M, eps = eps, time_max = time_max)\n",
    "alpha_, B, c, beta = stop_cond_args"
   ]
  },
  {
   "cell_type": "code",
   "execution_count": 67,
   "metadata": {
    "scrolled": true
   },
   "outputs": [
    {
     "name": "stdout",
     "output_type": "stream",
     "text": [
      "y, x - FGM+FGM\t$y, x - Ellipsoids+FGM\t$y, x - Dichotomy+FGM\t$\n",
      "False\t\t$False\t\t$True\t\t$\n",
      "0.520\t\t$3.809\t\t$60.031\t\t$\n",
      "6.909\t\t$6.909\t\t$6.909\t\t$\n",
      "44\t\t$646\t\t$130\t\t$\n"
     ]
    }
   ],
   "source": [
    "parse_results(history, alpha_, B, c, beta, keys = history.keys())"
   ]
  },
  {
   "cell_type": "code",
   "execution_count": 68,
   "metadata": {
    "scrolled": false
   },
   "outputs": [
    {
     "name": "stdout",
     "output_type": "stream",
     "text": [
      "y, x - FGM+FGM\n",
      "y, x - Ellipsoids+FGM\n",
      "y, x - Dichotomy+FGM\n"
     ]
    }
   ],
   "source": [
    "eps = 1e-9\n",
    "history, stop_cond_args = start_comparison(N = N, M = M, eps = eps, time_max = time_max)\n",
    "alpha_, B, c, beta = stop_cond_args"
   ]
  },
  {
   "cell_type": "code",
   "execution_count": 69,
   "metadata": {},
   "outputs": [
    {
     "name": "stdout",
     "output_type": "stream",
     "text": [
      "y, x - FGM+FGM\t$y, x - Ellipsoids+FGM\t$y, x - Dichotomy+FGM\t$\n",
      "False\t\t$True\t\t$True\t\t$\n",
      "60.007\t\t$6.200\t\t$60.048\t\t$\n",
      "6.909\t\t$6.909\t\t$6.909\t\t$\n",
      "4104\t\t$815\t\t$130\t\t$\n"
     ]
    }
   ],
   "source": [
    "parse_results(history, alpha_, B, c, beta, keys = history.keys())"
   ]
  },
  {
   "cell_type": "markdown",
   "metadata": {},
   "source": [
    "### N = 10000"
   ]
  },
  {
   "cell_type": "code",
   "execution_count": 70,
   "metadata": {},
   "outputs": [],
   "source": [
    "N = 10000"
   ]
  },
  {
   "cell_type": "code",
   "execution_count": 71,
   "metadata": {
    "scrolled": false
   },
   "outputs": [
    {
     "name": "stdout",
     "output_type": "stream",
     "text": [
      "y, x - FGM+FGM\n",
      "y, x - Ellipsoids+FGM\n",
      "y, x - Dichotomy+FGM\n"
     ]
    }
   ],
   "source": [
    "eps = 1e-3\n",
    "history, stop_cond_args = start_comparison(N = N, M = M, eps = eps, time_max = time_max)\n",
    "alpha_, B, c, beta = stop_cond_args"
   ]
  },
  {
   "cell_type": "code",
   "execution_count": 72,
   "metadata": {},
   "outputs": [
    {
     "name": "stdout",
     "output_type": "stream",
     "text": [
      "y, x - FGM+FGM\t$y, x - Ellipsoids+FGM\t$y, x - Dichotomy+FGM\t$\n",
      "False\t\t$True\t\t$True\t\t$\n",
      "0.357\t\t$38.229\t\t$60.149\t\t$\n",
      "9.210\t\t$9.211\t\t$27.879\t\t$\n",
      "4\t\t$597\t\t$104\t\t$\n"
     ]
    }
   ],
   "source": [
    "parse_results(history, alpha_, B, c, beta, keys = history.keys())"
   ]
  },
  {
   "cell_type": "code",
   "execution_count": 73,
   "metadata": {
    "scrolled": false
   },
   "outputs": [
    {
     "name": "stdout",
     "output_type": "stream",
     "text": [
      "y, x - FGM+FGM\n",
      "y, x - Ellipsoids+FGM\n",
      "y, x - Dichotomy+FGM\n"
     ]
    }
   ],
   "source": [
    "eps = 1e-6\n",
    "history, stop_cond_args = start_comparison(N = N, M = M, eps = eps, time_max = time_max)\n",
    "alpha_, B, c, beta = stop_cond_args"
   ]
  },
  {
   "cell_type": "code",
   "execution_count": 74,
   "metadata": {
    "scrolled": true
   },
   "outputs": [
    {
     "name": "stdout",
     "output_type": "stream",
     "text": [
      "y, x - FGM+FGM\t$y, x - Ellipsoids+FGM\t$y, x - Dichotomy+FGM\t$\n",
      "False\t\t$True\t\t$True\t\t$\n",
      "0.589\t\t$60.005\t\t$60.154\t\t$\n",
      "9.210\t\t$9.211\t\t$25.489\t\t$\n",
      "4\t\t$641\t\t$105\t\t$\n"
     ]
    }
   ],
   "source": [
    "parse_results(history, alpha_, B, c, beta, keys = history.keys())"
   ]
  },
  {
   "cell_type": "code",
   "execution_count": 77,
   "metadata": {
    "scrolled": false
   },
   "outputs": [
    {
     "name": "stdout",
     "output_type": "stream",
     "text": [
      "y, x - FGM+FGM\n",
      "y, x - Ellipsoids+FGM\n",
      "y, x - Dichotomy+FGM\n"
     ]
    }
   ],
   "source": [
    "eps = 1e-9\n",
    "history, stop_cond_args = start_comparison(N = N, M = M, eps = eps, time_max = 200)\n",
    "alpha_, B, c, beta = stop_cond_args"
   ]
  },
  {
   "cell_type": "code",
   "execution_count": 78,
   "metadata": {},
   "outputs": [
    {
     "name": "stdout",
     "output_type": "stream",
     "text": [
      "y, x - FGM+FGM\t$y, x - Ellipsoids+FGM\t$y, x - Dichotomy+FGM\t$\n",
      "False\t\t$True\t\t$True\t\t$\n",
      "200.151\t\t$102.533\t\t$200.326\t\t$\n",
      "9.210\t\t$9.210\t\t$9.211\t\t$\n",
      "768\t\t$833\t\t$139\t\t$\n"
     ]
    }
   ],
   "source": [
    "parse_results(history, alpha_, B, c, beta, keys = history.keys())"
   ]
  },
  {
   "cell_type": "code",
   "execution_count": null,
   "metadata": {},
   "outputs": [],
   "source": []
  }
 ],
 "metadata": {
  "anaconda-cloud": {},
  "kernelspec": {
   "display_name": "Python 3",
   "language": "python",
   "name": "python3"
  },
  "language_info": {
   "codemirror_mode": {
    "name": "ipython",
    "version": 3
   },
   "file_extension": ".py",
   "mimetype": "text/x-python",
   "name": "python",
   "nbconvert_exporter": "python",
   "pygments_lexer": "ipython3",
   "version": "3.7.3"
  }
 },
 "nbformat": 4,
 "nbformat_minor": 2
}
