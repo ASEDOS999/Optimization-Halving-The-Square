{
 "cells": [
  {
   "cell_type": "markdown",
   "metadata": {
    "collapsed": true
   },
   "source": [
    "# Comparison for LogSumExp"
   ]
  },
  {
   "cell_type": "code",
   "execution_count": 1,
   "metadata": {},
   "outputs": [],
   "source": [
    "import numpy as np\n",
    "import torch\n",
    "import scipy\n",
    "from scipy import signal"
   ]
  },
  {
   "cell_type": "code",
   "execution_count": 2,
   "metadata": {},
   "outputs": [],
   "source": [
    "a = np.random.uniform(size = (10,))\n",
    "b = np.random.uniform(size = (3,))"
   ]
  },
  {
   "cell_type": "code",
   "execution_count": 3,
   "metadata": {
    "scrolled": true
   },
   "outputs": [
    {
     "data": {
      "text/plain": [
       "((12,), array([0.65250472, 0.83769398, 1.03563552, 1.00901556, 1.27376797,\n",
       "        1.46376657, 0.89938565, 0.76974469, 0.94633292, 1.27620939,\n",
       "        0.80020662, 0.37612405]))"
      ]
     },
     "execution_count": 3,
     "metadata": {},
     "output_type": "execute_result"
    }
   ],
   "source": [
    "c = signal.fftconvolve(a,b)\n",
    "c.shape, c"
   ]
  },
  {
   "cell_type": "code",
   "execution_count": 4,
   "metadata": {},
   "outputs": [
    {
     "data": {
      "text/plain": [
       "((1, 1, 12),\n",
       " array([[[0.65250472, 0.83769398, 1.03563552, 1.00901556, 1.27376797,\n",
       "          1.46376657, 0.89938565, 0.76974469, 0.94633292, 1.27620939,\n",
       "          0.80020662, 0.37612405]]]))"
      ]
     },
     "execution_count": 4,
     "metadata": {},
     "output_type": "execute_result"
    }
   ],
   "source": [
    "b1 = torch.flip(torch.tensor(b), (0,)).view(1, 1, -1)\n",
    "c = torch.nn.functional.conv1d(torch.tensor(a).view(1,1,-1), b1, padding = len(b) - 1).numpy()\n",
    "c.shape, c"
   ]
  },
  {
   "cell_type": "code",
   "execution_count": 5,
   "metadata": {},
   "outputs": [
    {
     "data": {
      "text/plain": [
       "array([0.42696145, 0.44215837, 0.75741494])"
      ]
     },
     "execution_count": 5,
     "metadata": {},
     "output_type": "execute_result"
    }
   ],
   "source": [
    "b1.view(-1).numpy()"
   ]
  },
  {
   "cell_type": "code",
   "execution_count": 6,
   "metadata": {},
   "outputs": [
    {
     "data": {
      "text/plain": [
       "((1, 1, 12),\n",
       " array([[[0.36782264, 0.63840516, 1.14529613, 0.98259342, 1.12348075,\n",
       "          1.3679907 , 1.20335495, 0.94908097, 0.6498084 , 1.12725285,\n",
       "          1.11807052, 0.66723114]]]))"
      ]
     },
     "execution_count": 6,
     "metadata": {},
     "output_type": "execute_result"
    }
   ],
   "source": [
    "c = torch.nn.functional.conv1d(torch.tensor(a).view(1,1,-1), torch.tensor(b).view(1,1,-1), padding = len(b) - 1).numpy()\n",
    "c.shape, c"
   ]
  },
  {
   "cell_type": "code",
   "execution_count": 7,
   "metadata": {},
   "outputs": [],
   "source": [
    "a = np.array([1, 1, 1, 1, 1, 1])\n",
    "b = np.array([1, 2, 3])"
   ]
  },
  {
   "cell_type": "code",
   "execution_count": 8,
   "metadata": {},
   "outputs": [
    {
     "data": {
      "text/plain": [
       "array([1., 3., 6., 6., 6., 6., 5., 3.])"
      ]
     },
     "execution_count": 8,
     "metadata": {},
     "output_type": "execute_result"
    }
   ],
   "source": [
    "signal.fftconvolve(a, b)"
   ]
  },
  {
   "cell_type": "code",
   "execution_count": 9,
   "metadata": {},
   "outputs": [
    {
     "data": {
      "text/plain": [
       "array([3, 5, 6, 6, 6, 6, 3, 1])"
      ]
     },
     "execution_count": 9,
     "metadata": {},
     "output_type": "execute_result"
    }
   ],
   "source": [
    "torch.nn.functional.conv1d(torch.tensor(a).view(1,1,-1), torch.tensor(b).view(1,1,-1), padding = len(b) - 1).view(-1).numpy()"
   ]
  },
  {
   "cell_type": "code",
   "execution_count": null,
   "metadata": {},
   "outputs": [],
   "source": []
  }
 ],
 "metadata": {
  "anaconda-cloud": {},
  "kernelspec": {
   "display_name": "Python 3",
   "language": "python",
   "name": "python3"
  },
  "language_info": {
   "codemirror_mode": {
    "name": "ipython",
    "version": 3
   },
   "file_extension": ".py",
   "mimetype": "text/x-python",
   "name": "python",
   "nbconvert_exporter": "python",
   "pygments_lexer": "ipython3",
   "version": "3.7.3"
  }
 },
 "nbformat": 4,
 "nbformat_minor": 2
}
